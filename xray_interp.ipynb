{
 "cells": [
  {
   "cell_type": "code",
   "execution_count": 1,
   "id": "65a9fdc3-11dd-40e1-b59d-e79f0f6f5a81",
   "metadata": {},
   "outputs": [],
   "source": [
    "# Imports\n",
    "\n",
    "# File handling\n",
    "import os\n",
    "import cv2\n",
    "import splitfolders\n",
    "from PIL import Image\n",
    "\n",
    "# Visualization\n",
    "import pandas as pd\n",
    "import matplotlib.pyplot as plt\n",
    "import seaborn as sns\n",
    "%matplotlib inline\n",
    "\n",
    "# NumPy\n",
    "import numpy as np\n",
    "\n",
    "# ML\n",
    "import tensorflow as tf\n",
    "from tensorflow import keras\n",
    "from tensorflow.keras.optimizers import Adam\n",
    "\n",
    "from keras import models, layers\n",
    "import keras_tuner as kt\n",
    "from keras.callbacks import CSVLogger\n",
    "from keras.utils import image_dataset_from_directory, load_img, img_to_array\n",
    "from keras.regularizers import l2\n",
    "\n",
    "from sklearn.utils import shuffle\n",
    "from sklearn.linear_model import LogisticRegression\n",
    "from sklearn.neighbors import KNeighborsClassifier\n",
    "\n",
    "# Metrics\n",
    "from sklearn.metrics import accuracy_score , confusion_matrix, classification_report\n",
    "from imblearn.metrics import sensitivity_score"
   ]
  },
  {
   "cell_type": "markdown",
   "id": "c0e013cc-e2c3-43e4-a8b7-1b00f3ffb76b",
   "metadata": {
    "tags": []
   },
   "source": [
    "## Utility functions"
   ]
  },
  {
   "cell_type": "code",
   "execution_count": 2,
   "id": "34d27a77-2e91-492e-bea9-0790a0aacc0c",
   "metadata": {
    "tags": []
   },
   "outputs": [],
   "source": [
    "def unzip_zip():\n",
    "\n",
    "    to_extract = input('Type the path of the file to unzip:')\n",
    "    path = to_extract.split('/')\n",
    "    path.pop(-1)\n",
    "    extract_in = '/'.join(map(str,path))\n",
    "    with ZipFile(to_extract, 'r') as zObject:\n",
    "        zObject.extractall(extract_in)\n",
    "\n",
    "def load_model(file=\"model.h5\", hist=\"training.log\"):\n",
    "    \n",
    "    # load model and history\n",
    "    \n",
    "    import tensorflow as tf\n",
    "    import pandas as pd\n",
    "    import numpy as np\n",
    "    model = tf.keras.models.load_model(file)\n",
    "    history = pd.read_csv(hist)[['loss','binary_accuracy', 'val_loss', 'val_binary_accuracy']]\n",
    "    return model, history\n",
    "\n",
    "def get_data(train_path='images/train/', test_path='images/test/', valid_path='images/val/'):\n",
    "    \n",
    "    # preprocess train, test and valid sets\n",
    "    \n",
    "    from keras.utils import image_dataset_from_directory\n",
    "    train = image_dataset_from_directory(directory=train_path,\n",
    "                             label_mode='binary',\n",
    "                             color_mode=\"rgb\",\n",
    "                             image_size=(256, 256),\n",
    "                             shuffle=True,\n",
    "                             seed=77)\n",
    "    test = image_dataset_from_directory(directory=test_path,\n",
    "                             color_mode=\"rgb\",\n",
    "                             label_mode='binary',\n",
    "                             image_size=(256, 256))\n",
    "    valid = image_dataset_from_directory(directory=valid_path,\n",
    "                             color_mode=\"rgb\",\n",
    "                             label_mode='binary',\n",
    "                             image_size=(256, 256))\n",
    "    return train, test, valid\n",
    "\n",
    "def evaluate_model(model, valid, test):\n",
    "    \n",
    "    pd.read_csv('training.log')[['binary_accuracy','loss','val_binary_accuracy','val_loss']].plot(figsize=(15,5))\n",
    "    plt.grid(True)\n",
    "    plt.gca().set_ylim(0, 1)\n",
    "    plt.title('Model Learning Curves')\n",
    "    plt.show()\n",
    "    print()\n",
    "    print()\n",
    "    print()\n",
    "    print('Test set score')\n",
    "    print()\n",
    "    model.evaluate(test)\n",
    "    print()\n",
    "    print()\n",
    "    print()\n",
    "    print('Validation set score')\n",
    "    print()\n",
    "    model.evaluate(valid)\n",
    "\n",
    "def dim_info(dimension):\n",
    "    print(\"Dimension type: \", type(dimension))\n",
    "    print(\"Dimension length: \", len(dimension))\n",
    "\n",
    "def images_to_arrays_X_y(folder_path):\n",
    "    X = []\n",
    "    y = []\n",
    "    for class_folder in os.listdir(folder_path):\n",
    "        class_path = os.path.join(folder_path, class_folder)\n",
    "        if not os.path.isdir(class_path):\n",
    "            continue\n",
    "        class_label = class_folder  # assign class folder name as label\n",
    "        for filename in os.listdir(class_path):\n",
    "            img_path = os.path.join(class_path, filename)\n",
    "            img = cv2.imread(img_path)\n",
    "            if img is not None:\n",
    "                img = cv2.resize(img, (256, 256))  # resize\n",
    "                img_array = np.array(img, dtype=np.float32)  # convert array values to float\n",
    "                X.append(img_array)\n",
    "                y.append(class_label)\n",
    "    return np.array(X), np.array(y)\n",
    "\n",
    "def images_to_arrays(folder_path):\n",
    "    data = []\n",
    "    for class_folder in os.listdir(folder_path):\n",
    "        class_path = os.path.join(folder_path, class_folder)\n",
    "        if not os.path.isdir(class_path):\n",
    "            continue\n",
    "        class_label = class_folder  # assign class folder name as label\n",
    "        for filename in os.listdir(class_path):\n",
    "            img_path = os.path.join(class_path, filename)\n",
    "            img = cv2.imread(img_path)\n",
    "            if img is not None:\n",
    "                img = cv2.resize(img, (256, 256))  # resize\n",
    "                img_array = np.array(img, dtype=np.float32)  # convert array values to float\n",
    "                data.append([img_array,class_label])\n",
    "    return data"
   ]
  },
  {
   "cell_type": "code",
   "execution_count": 3,
   "id": "e362797c-737d-4447-a607-162a5bccedb1",
   "metadata": {},
   "outputs": [],
   "source": [
    "# load model and history\n",
    "model, history = load_model(\"model.h5\")"
   ]
  },
  {
   "cell_type": "code",
   "execution_count": null,
   "id": "42aca036-5240-4fa1-afe4-b569af904896",
   "metadata": {},
   "outputs": [],
   "source": [
    "# data\n",
    "train, test, valid = get_data()"
   ]
  },
  {
   "cell_type": "markdown",
   "id": "9472ac46-b270-4dc6-a402-ff0a1ffe6555",
   "metadata": {
    "tags": []
   },
   "source": [
    "## Model development"
   ]
  },
  {
   "cell_type": "code",
   "execution_count": null,
   "id": "61231439-552d-4091-91aa-5f3133d75a03",
   "metadata": {},
   "outputs": [],
   "source": [
    "# grid search setup\n",
    "\n",
    "# train data\n",
    "X_train, y_train = images_to_arrays(\"images\\\\train\")\n",
    "y_train[y_train == 'healthy'] = 0\n",
    "y_train[y_train == 'sick'] = 1\n",
    "y_train = y_train.astype('float32')\n",
    "\n",
    "# validation data\n",
    "X_valid, y_valid = images_to_arrays(\"images\\\\val\")\n",
    "y_valid[y_valid == 'healthy'] = 0\n",
    "y_valid[y_valid == 'sick'] = 1\n",
    "y_valid = y_valid.astype('float32')\n",
    "\n",
    "# hypermodel class\n",
    "class MyHyperModel(kt.HyperModel):\n",
    "    def build(self, hp):\n",
    "        model = keras.Sequential()\n",
    "        model.add(layers.Rescaling(1./255, input_shape=(256, 256, 3))) # input\n",
    "        model.add(layers.MaxPooling2D(hp.Choice('pool_size',[2,3]))) # maxpooling 1\n",
    "        model.add(layers.Conv2D(hp.Choice('filters', [64, 32]), hp.Choice('kernel_size',[2,3,4]), kernel_regularizer=l2(0.01), activation=\"relu\")) # hidden 1\n",
    "        model.add(layers.MaxPooling2D(hp.Choice('pool_size',[2,3]))) # maxpooling 2\n",
    "        model.add(layers.Conv2D(hp.Choice('filters',[64, 32]), hp.Choice('kernel_size',[2,3,4]), kernel_regularizer=l2(0.01), activation=\"relu\")) # hidden 2\n",
    "        model.add(layers.MaxPooling2D(hp.Choice('pool_size',[2,3]))) # maxpooling 3\n",
    "        model.add(layers.Flatten())\n",
    "        model.add(layers.Dropout(hp.Choice('rate',[0.5,0.6])))\n",
    "        model.add(layers.Dense(1, activation=\"sigmoid\")) # output\n",
    "        model.compile(optimizer=Adam(hp.Choice('learning_rate',[0.0017])),\n",
    "                  loss='binary_crossentropy',\n",
    "                  metrics=['binary_accuracy'])\n",
    "        return model\n",
    "\n",
    "# initializing tuner\n",
    "tuner_gs = kt.GridSearch(\n",
    "    MyHyperModel(),\n",
    "    objective='val_loss',\n",
    "    max_trials=5)\n",
    "\n",
    "tuner_gs.search(X_train, y_train, epochs=3, shuffle=True, validation_data=(X_valid, y_valid))"
   ]
  },
  {
   "cell_type": "code",
   "execution_count": 7,
   "id": "f960744a-427e-42f6-a6d8-3f8ed369cc87",
   "metadata": {},
   "outputs": [],
   "source": [
    "# CNN model\n",
    "shape = (256, 256, 3)\n",
    "drop = 0.5\n",
    "kernel = 2\n",
    "pool = 2\n",
    "regularizer=l2(0.01)\n",
    "learning_rate=0.0017\n",
    "\n",
    "model = keras.Sequential(\n",
    "    [   \n",
    "        layers.Rescaling(1./255, input_shape=shape), # input\n",
    "        layers.MaxPooling2D(pool_size=pool),\n",
    "     \n",
    "        layers.Conv2D(64, kernel_size=kernel, kernel_regularizer=regularizer, activation=\"relu\"), # layer 1\n",
    "        layers.MaxPooling2D(pool_size=pool),\n",
    "        \n",
    "        layers.Conv2D(64, kernel_size=kernel, kernel_regularizer=regularizer, activation=\"relu\"), # layer 2\n",
    "        layers.MaxPooling2D(pool_size=pool),\n",
    "\n",
    "     \n",
    "        layers.Flatten(),\n",
    "        layers.Dropout(drop),     \n",
    "        layers.Dense(1, activation=\"sigmoid\") # output\n",
    "    ])"
   ]
  },
  {
   "cell_type": "code",
   "execution_count": 8,
   "id": "21f4114b-225f-4153-9501-5e5433d5a31a",
   "metadata": {
    "tags": []
   },
   "outputs": [],
   "source": [
    "model.compile(optimizer=Adam(learning_rate=learning_rate),\n",
    "              loss='binary_crossentropy',\n",
    "              metrics=['binary_accuracy'])"
   ]
  },
  {
   "cell_type": "code",
   "execution_count": 9,
   "id": "fa0fa317-87ac-4cc5-a239-8327aedd07c4",
   "metadata": {
    "tags": []
   },
   "outputs": [
    {
     "name": "stdout",
     "output_type": "stream",
     "text": [
      "Model: \"sequential\"\n",
      "_________________________________________________________________\n",
      " Layer (type)                Output Shape              Param #   \n",
      "=================================================================\n",
      " rescaling (Rescaling)       (None, 256, 256, 3)       0         \n",
      "                                                                 \n",
      " max_pooling2d (MaxPooling2D  (None, 128, 128, 3)      0         \n",
      " )                                                               \n",
      "                                                                 \n",
      " conv2d (Conv2D)             (None, 127, 127, 64)      832       \n",
      "                                                                 \n",
      " max_pooling2d_1 (MaxPooling  (None, 63, 63, 64)       0         \n",
      " 2D)                                                             \n",
      "                                                                 \n",
      " conv2d_1 (Conv2D)           (None, 62, 62, 64)        16448     \n",
      "                                                                 \n",
      " max_pooling2d_2 (MaxPooling  (None, 31, 31, 64)       0         \n",
      " 2D)                                                             \n",
      "                                                                 \n",
      " flatten (Flatten)           (None, 61504)             0         \n",
      "                                                                 \n",
      " dropout (Dropout)           (None, 61504)             0         \n",
      "                                                                 \n",
      " dense (Dense)               (None, 1)                 61505     \n",
      "                                                                 \n",
      "=================================================================\n",
      "Total params: 78,785\n",
      "Trainable params: 78,785\n",
      "Non-trainable params: 0\n",
      "_________________________________________________________________\n"
     ]
    }
   ],
   "source": [
    "model.summary()"
   ]
  },
  {
   "cell_type": "code",
   "execution_count": 11,
   "id": "cb8f989d-cee9-47af-a69c-2b25fc041d74",
   "metadata": {
    "tags": []
   },
   "outputs": [],
   "source": [
    "csv_logger = CSVLogger('training.log')\n",
    "early_stopping_cb = keras.callbacks.EarlyStopping(patience=4, restore_best_weights=True)\n",
    "cp_callback = tf.keras.callbacks.ModelCheckpoint(filepath=\"training_1/cp.ckpt\",\n",
    "                                                 save_weights_only=True,\n",
    "                                                 verbose=1)\n",
    "model.fit(train, validation_data=valid, verbose=1, epochs=50, shuffle=True, callbacks=[csv_logger, early_stopping_cb, cp_callback])"
   ]
  },
  {
   "cell_type": "code",
   "execution_count": 4,
   "id": "cb8a2b8a-a593-433d-bfed-8c8ab17b0ac8",
   "metadata": {},
   "outputs": [
    {
     "data": {
      "text/html": [
       "<div>\n",
       "<style scoped>\n",
       "    .dataframe tbody tr th:only-of-type {\n",
       "        vertical-align: middle;\n",
       "    }\n",
       "\n",
       "    .dataframe tbody tr th {\n",
       "        vertical-align: top;\n",
       "    }\n",
       "\n",
       "    .dataframe thead th {\n",
       "        text-align: right;\n",
       "    }\n",
       "</style>\n",
       "<table border=\"1\" class=\"dataframe\">\n",
       "  <thead>\n",
       "    <tr style=\"text-align: right;\">\n",
       "      <th></th>\n",
       "      <th>loss</th>\n",
       "      <th>binary_accuracy</th>\n",
       "      <th>val_loss</th>\n",
       "      <th>val_binary_accuracy</th>\n",
       "    </tr>\n",
       "  </thead>\n",
       "  <tbody>\n",
       "    <tr>\n",
       "      <th>0</th>\n",
       "      <td>0.626073</td>\n",
       "      <td>0.751034</td>\n",
       "      <td>0.494394</td>\n",
       "      <td>0.790071</td>\n",
       "    </tr>\n",
       "    <tr>\n",
       "      <th>1</th>\n",
       "      <td>0.467027</td>\n",
       "      <td>0.804135</td>\n",
       "      <td>0.445656</td>\n",
       "      <td>0.817494</td>\n",
       "    </tr>\n",
       "    <tr>\n",
       "      <th>2</th>\n",
       "      <td>0.440468</td>\n",
       "      <td>0.814590</td>\n",
       "      <td>0.406394</td>\n",
       "      <td>0.836879</td>\n",
       "    </tr>\n",
       "    <tr>\n",
       "      <th>3</th>\n",
       "      <td>0.429220</td>\n",
       "      <td>0.821500</td>\n",
       "      <td>0.403770</td>\n",
       "      <td>0.829787</td>\n",
       "    </tr>\n",
       "    <tr>\n",
       "      <th>4</th>\n",
       "      <td>0.423719</td>\n",
       "      <td>0.825458</td>\n",
       "      <td>0.420200</td>\n",
       "      <td>0.831206</td>\n",
       "    </tr>\n",
       "    <tr>\n",
       "      <th>5</th>\n",
       "      <td>0.407979</td>\n",
       "      <td>0.834436</td>\n",
       "      <td>0.383188</td>\n",
       "      <td>0.851064</td>\n",
       "    </tr>\n",
       "    <tr>\n",
       "      <th>6</th>\n",
       "      <td>0.401946</td>\n",
       "      <td>0.834436</td>\n",
       "      <td>0.390163</td>\n",
       "      <td>0.838771</td>\n",
       "    </tr>\n",
       "    <tr>\n",
       "      <th>7</th>\n",
       "      <td>0.398459</td>\n",
       "      <td>0.837921</td>\n",
       "      <td>0.388138</td>\n",
       "      <td>0.844444</td>\n",
       "    </tr>\n",
       "    <tr>\n",
       "      <th>8</th>\n",
       "      <td>0.395570</td>\n",
       "      <td>0.840461</td>\n",
       "      <td>0.387333</td>\n",
       "      <td>0.849645</td>\n",
       "    </tr>\n",
       "    <tr>\n",
       "      <th>9</th>\n",
       "      <td>0.390978</td>\n",
       "      <td>0.841051</td>\n",
       "      <td>0.378414</td>\n",
       "      <td>0.852955</td>\n",
       "    </tr>\n",
       "    <tr>\n",
       "      <th>10</th>\n",
       "      <td>0.383367</td>\n",
       "      <td>0.847017</td>\n",
       "      <td>0.394171</td>\n",
       "      <td>0.837825</td>\n",
       "    </tr>\n",
       "    <tr>\n",
       "      <th>11</th>\n",
       "      <td>0.383815</td>\n",
       "      <td>0.844832</td>\n",
       "      <td>0.381812</td>\n",
       "      <td>0.852955</td>\n",
       "    </tr>\n",
       "    <tr>\n",
       "      <th>12</th>\n",
       "      <td>0.397294</td>\n",
       "      <td>0.839752</td>\n",
       "      <td>0.378795</td>\n",
       "      <td>0.853428</td>\n",
       "    </tr>\n",
       "    <tr>\n",
       "      <th>13</th>\n",
       "      <td>0.384008</td>\n",
       "      <td>0.846486</td>\n",
       "      <td>0.373574</td>\n",
       "      <td>0.849173</td>\n",
       "    </tr>\n",
       "    <tr>\n",
       "      <th>14</th>\n",
       "      <td>0.382493</td>\n",
       "      <td>0.845895</td>\n",
       "      <td>0.365951</td>\n",
       "      <td>0.851537</td>\n",
       "    </tr>\n",
       "    <tr>\n",
       "      <th>15</th>\n",
       "      <td>0.384184</td>\n",
       "      <td>0.843828</td>\n",
       "      <td>0.366651</td>\n",
       "      <td>0.855792</td>\n",
       "    </tr>\n",
       "    <tr>\n",
       "      <th>16</th>\n",
       "      <td>0.376958</td>\n",
       "      <td>0.848317</td>\n",
       "      <td>0.364257</td>\n",
       "      <td>0.855319</td>\n",
       "    </tr>\n",
       "    <tr>\n",
       "      <th>17</th>\n",
       "      <td>0.369932</td>\n",
       "      <td>0.853928</td>\n",
       "      <td>0.364558</td>\n",
       "      <td>0.853428</td>\n",
       "    </tr>\n",
       "    <tr>\n",
       "      <th>18</th>\n",
       "      <td>0.372969</td>\n",
       "      <td>0.850502</td>\n",
       "      <td>0.367631</td>\n",
       "      <td>0.853428</td>\n",
       "    </tr>\n",
       "    <tr>\n",
       "      <th>19</th>\n",
       "      <td>0.373552</td>\n",
       "      <td>0.852038</td>\n",
       "      <td>0.364978</td>\n",
       "      <td>0.855319</td>\n",
       "    </tr>\n",
       "    <tr>\n",
       "      <th>20</th>\n",
       "      <td>0.368801</td>\n",
       "      <td>0.852747</td>\n",
       "      <td>0.364262</td>\n",
       "      <td>0.854374</td>\n",
       "    </tr>\n",
       "  </tbody>\n",
       "</table>\n",
       "</div>"
      ],
      "text/plain": [
       "        loss  binary_accuracy  val_loss  val_binary_accuracy\n",
       "0   0.626073         0.751034  0.494394             0.790071\n",
       "1   0.467027         0.804135  0.445656             0.817494\n",
       "2   0.440468         0.814590  0.406394             0.836879\n",
       "3   0.429220         0.821500  0.403770             0.829787\n",
       "4   0.423719         0.825458  0.420200             0.831206\n",
       "5   0.407979         0.834436  0.383188             0.851064\n",
       "6   0.401946         0.834436  0.390163             0.838771\n",
       "7   0.398459         0.837921  0.388138             0.844444\n",
       "8   0.395570         0.840461  0.387333             0.849645\n",
       "9   0.390978         0.841051  0.378414             0.852955\n",
       "10  0.383367         0.847017  0.394171             0.837825\n",
       "11  0.383815         0.844832  0.381812             0.852955\n",
       "12  0.397294         0.839752  0.378795             0.853428\n",
       "13  0.384008         0.846486  0.373574             0.849173\n",
       "14  0.382493         0.845895  0.365951             0.851537\n",
       "15  0.384184         0.843828  0.366651             0.855792\n",
       "16  0.376958         0.848317  0.364257             0.855319\n",
       "17  0.369932         0.853928  0.364558             0.853428\n",
       "18  0.372969         0.850502  0.367631             0.853428\n",
       "19  0.373552         0.852038  0.364978             0.855319\n",
       "20  0.368801         0.852747  0.364262             0.854374"
      ]
     },
     "execution_count": 4,
     "metadata": {},
     "output_type": "execute_result"
    }
   ],
   "source": [
    "history"
   ]
  },
  {
   "cell_type": "markdown",
   "id": "495f8896-5c78-4cc8-b878-fd18d23fca6f",
   "metadata": {},
   "source": [
    "## Performance Analysis"
   ]
  },
  {
   "cell_type": "code",
   "execution_count": 31,
   "id": "add22ee3-5b03-425d-ad3b-460d24d3fd29",
   "metadata": {},
   "outputs": [
    {
     "data": {
      "image/png": "[encoded data removed]",
      "text/plain": [
       "<Figure size 1500x500 with 1 Axes>"
      ]
     },
     "metadata": {},
     "output_type": "display_data"
    },
    {
     "name": "stdout",
     "output_type": "stream",
     "text": [
      "\n",
      "\n",
      "\n",
      "Test set score\n",
      "\n",
      "67/67 [==============================] - 5s 71ms/step - loss: 0.3563 - binary_accuracy: 0.8637\n",
      "\n",
      "\n",
      "\n",
      "Validation set score\n",
      "\n",
      "67/67 [==============================] - 5s 70ms/step - loss: 0.3643 - binary_accuracy: 0.8553\n"
     ]
    }
   ],
   "source": [
    "evaluate_model(model)"
   ]
  },
  {
   "cell_type": "code",
   "execution_count": 109,
   "id": "832d147f-4de8-462f-b89d-3dd8de468baf",
   "metadata": {
    "tags": []
   },
   "outputs": [
    {
     "name": "stdout",
     "output_type": "stream",
     "text": [
      "67/67 [==============================] - 4s 60ms/step\n"
     ]
    }
   ],
   "source": [
    "X_test, y_test = images_to_arrays_X_y(\"images\\\\test\")\n",
    "y_test[y_test == 'healthy'] = 0\n",
    "y_test[y_test == 'sick'] = 1\n",
    "y_test = y_test.astype('float32')\n",
    "pred = model.predict(X_test).round()"
   ]
  },
  {
   "cell_type": "code",
   "execution_count": 127,
   "id": "2f3c6b37-3546-4dcf-b22f-5699b98aa08c",
   "metadata": {
    "tags": []
   },
   "outputs": [
    {
     "name": "stdout",
     "output_type": "stream",
     "text": [
      "Sensitivity score:  0.8481818181818181\n"
     ]
    }
   ],
   "source": [
    "print(\"Sensitivity score: \", sensitivity_score(y_test, pred))"
   ]
  },
  {
   "cell_type": "code",
   "execution_count": 110,
   "id": "0f96f48a-05b3-41fb-80f6-30836f88be4f",
   "metadata": {},
   "outputs": [
    {
     "name": "stdout",
     "output_type": "stream",
     "text": [
      "              precision    recall  f1-score   support\n",
      "\n",
      "         0.0       0.84      0.88      0.86      1020\n",
      "         1.0       0.88      0.85      0.87      1100\n",
      "\n",
      "    accuracy                           0.86      2120\n",
      "   macro avg       0.86      0.86      0.86      2120\n",
      "weighted avg       0.86      0.86      0.86      2120\n",
      "\n"
     ]
    }
   ],
   "source": [
    "print(classification_report(y_test, pred))"
   ]
  },
  {
   "cell_type": "markdown",
   "id": "d21cb4f7-32af-4984-ac84-6ca49b12f331",
   "metadata": {
    "tags": []
   },
   "source": [
    "## Other classification Models"
   ]
  },
  {
   "cell_type": "code",
   "execution_count": 123,
   "id": "bd4a0aff-bff2-4fd6-9003-45b96cd6bdb2",
   "metadata": {},
   "outputs": [],
   "source": [
    "# data preprocessing\n",
    "X_train, y_train = images_to_arrays_X_y(\"images\\\\train\")\n",
    "y_train[y_train == 'healthy'] = 0\n",
    "y_train[y_train == 'sick'] = 1\n",
    "y_train = y_train.astype('float32')\n",
    "\n",
    "X_test, y_test = images_to_arrays_X_y(\"images\\\\test\")\n",
    "y_test[y_test == 'healthy'] = 0\n",
    "y_test[y_test == 'sick'] = 1\n",
    "y_test = y_test.astype('float32')\n",
    "\n",
    "# input\n",
    "X_train_flat = X_train.reshape(X_train.shape[0], -1)\n",
    "X_test_flat = X_test.reshape(X_test.shape[0], -1)"
   ]
  },
  {
   "cell_type": "code",
   "execution_count": 124,
   "id": "ae98f4ea-34b0-445f-b26a-7c51c6c30d32",
   "metadata": {
    "tags": []
   },
   "outputs": [],
   "source": [
    "# logistic regression classifier\n",
    "logreg = LogisticRegression(max_iter=50)\n",
    "logreg.fit(X_train_flat, y_train)\n",
    "y_pred_logreg = logreg.predict(X_test_flat)"
   ]
  },
  {
   "cell_type": "code",
   "execution_count": 125,
   "id": "43b81997-2631-411d-9208-3e46591cb510",
   "metadata": {},
   "outputs": [
    {
     "name": "stdout",
     "output_type": "stream",
     "text": [
      "Logistic Regression Classifier accuracy:  0.8160377358490566\n",
      "Sensitivity score:  0.8245454545454546\n"
     ]
    }
   ],
   "source": [
    "print(\"Logistic Regression Classifier accuracy: \", logreg.score(X_test_flat, y_test))\n",
    "print(\"Sensitivity score: \", sensitivity_score(y_test, y_pred_logreg))"
   ]
  },
  {
   "cell_type": "code",
   "execution_count": 43,
   "id": "b5198363-d8ea-471c-aed3-96b1165fd905",
   "metadata": {
    "tags": []
   },
   "outputs": [
    {
     "name": "stdout",
     "output_type": "stream",
     "text": [
      "              precision    recall  f1-score   support\n",
      "\n",
      "         0.0       0.81      0.81      0.81      1020\n",
      "         1.0       0.82      0.82      0.82      1100\n",
      "\n",
      "    accuracy                           0.82      2120\n",
      "   macro avg       0.82      0.82      0.82      2120\n",
      "weighted avg       0.82      0.82      0.82      2120\n",
      "\n"
     ]
    }
   ],
   "source": [
    "print(classification_report(y_test, y_pred_logreg))"
   ]
  },
  {
   "cell_type": "code",
   "execution_count": 126,
   "id": "0fbe1591-5bb5-481f-86c2-d43d81f28611",
   "metadata": {},
   "outputs": [
    {
     "name": "stdout",
     "output_type": "stream",
     "text": [
      "K-Nearest-Neighbour Classifier accuracy:  0.8537735849056604\n",
      "Sensitivity score:  0.850909090909091\n"
     ]
    }
   ],
   "source": [
    "# KNN classifier\n",
    "knn = KNeighborsClassifier(n_neighbors=3)\n",
    "knn.fit(X_train_flat, y_train)\n",
    "y_pred_knn = knn.predict(X_test_flat)\n",
    "print(\"K-Nearest-Neighbour Classifier accuracy: \", accuracy_score(y_test, y_pred_knn))\n",
    "print(\"Sensitivity score: \", sensitivity_score(y_test, y_pred_knn))"
   ]
  },
  {
   "cell_type": "code",
   "execution_count": 47,
   "id": "9c1745e7-4ace-4451-9cc7-71281fec91d1",
   "metadata": {
    "tags": []
   },
   "outputs": [
    {
     "name": "stdout",
     "output_type": "stream",
     "text": [
      "              precision    recall  f1-score   support\n",
      "\n",
      "         0.0       0.84      0.86      0.85      1020\n",
      "         1.0       0.87      0.85      0.86      1100\n",
      "\n",
      "    accuracy                           0.85      2120\n",
      "   macro avg       0.85      0.85      0.85      2120\n",
      "weighted avg       0.85      0.85      0.85      2120\n",
      "\n"
     ]
    }
   ],
   "source": [
    "print(classification_report(y_test, y_pred_knn))"
   ]
  }
 ],
 "metadata": {
  "kernelspec": {
   "display_name": "Python 3 (ipykernel)",
   "language": "python",
   "name": "python3"
  },
  "language_info": {
   "codemirror_mode": {
    "name": "ipython",
    "version": 3
   },
   "file_extension": ".py",
   "mimetype": "text/x-python",
   "name": "python",
   "nbconvert_exporter": "python",
   "pygments_lexer": "ipython3",
   "version": "3.9.16"
  }
 },
 "nbformat": 4,
 "nbformat_minor": 5
}
