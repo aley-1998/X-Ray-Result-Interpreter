{
 "cells": [
  {
   "cell_type": "code",
   "execution_count": 1,
   "id": "65a9fdc3-11dd-40e1-b59d-e79f0f6f5a81",
   "metadata": {},
   "outputs": [],
   "source": [
    "# Imports\n",
    "\n",
    "# File handling\n",
    "import os\n",
    "import pathlib\n",
    "from zipfile import ZipFile\n",
    "import splitfolders\n",
    "\n",
    "# Visualization\n",
    "import  matplotlib.pyplot as plt\n",
    "import seaborn as sns\n",
    "%matplotlib inline\n",
    "\n",
    "# Data and maths\n",
    "import numpy as np\n",
    "import pandas as pd\n",
    "import random\n",
    "\n",
    "# ML\n",
    "import tensorflow as tf\n",
    "from tensorflow import keras\n",
    "from keras import models, layers\n",
    "from keras.utils import image_dataset_from_directory\n",
    "from keras.preprocessing.image import ImageDataGenerator\n",
    "\n",
    "from sklearn.utils import shuffle\n",
    "from sklearn.model_selection import train_test_split\n",
    "#from keras.callbacks import CSVLogger # if problems with SAVING model\n",
    "\n",
    "# Metrics\n",
    "from sklearn.metrics import accuracy_score, confusion_matrix, classification_report"
   ]
  },
  {
   "cell_type": "code",
   "execution_count": 19,
   "id": "f10fd2ec-89b7-48af-bd75-61758b03052d",
   "metadata": {},
   "outputs": [
    {
     "name": "stderr",
     "output_type": "stream",
     "text": [
      "Copying files: 21165 files [01:16, 277.95 files/s]\n",
      "Copying files: 0 files [42:48, ? files/s]"
     ]
    }
   ],
   "source": [
    "# image data\n",
    "splitfolders.ratio(\"data/images_unf/\", output=\"images\", seed=586, ratio=(.8, .1, .1), group_prefix=None, move=True)"
   ]
  },
  {
   "cell_type": "code",
   "execution_count": 5,
   "id": "86caef0e-4451-48f0-adda-005d8ae1eaf2",
   "metadata": {},
   "outputs": [
    {
     "name": "stdout",
     "output_type": "stream",
     "text": [
      "Found 16930 files belonging to 2 classes.\n",
      "Found 2120 files belonging to 2 classes.\n",
      "Found 2115 files belonging to 2 classes.\n"
     ]
    }
   ],
   "source": [
    "# preprocess train, test and valid sets\n",
    "train_path = 'images/train/'\n",
    "test_path = 'images/test/'\n",
    "valid_path = 'images/val/'\n",
    "size = (256, 256)\n",
    "\n",
    "train = image_dataset_from_directory(directory=train_path,\n",
    "                         labels='inferred',\n",
    "                         color_mode=\"rgb\",\n",
    "                         batch_size=64,\n",
    "                         image_size=size,\n",
    "                         shuffle=True,\n",
    "                         seed=77)\n",
    "\n",
    "test = image_dataset_from_directory(directory=test_path,\n",
    "                         labels='inferred',\n",
    "                         color_mode=\"rgb\",\n",
    "                         batch_size=64,\n",
    "                         image_size=size,\n",
    "                         shuffle=False,\n",
    "                         seed=77)\n",
    "\n",
    "valid = image_dataset_from_directory(directory=valid_path,\n",
    "                         labels='inferred',\n",
    "                         color_mode=\"rgb\",\n",
    "                         batch_size=64,\n",
    "                         image_size=size,\n",
    "                         shuffle=False,\n",
    "                         seed=77)"
   ]
  },
  {
   "cell_type": "markdown",
   "id": "d0cd8edb-442a-4dc8-baa9-8cc59e26004c",
   "metadata": {},
   "source": [
    "model 1: loss: 0.6931 - accuracy: 0.4816 - val_loss: 0.6931 - val_accuracy: 0.4818  \n",
    "\n",
    "model 2: loss: 8.3040 - accuracy: 0.4834 (interrupted)  \n",
    "\n",
    "model 3: loss: 7.7412 - accuracy: 0.5178 - val_loss: 7.7656 - val_accuracy: 0.5182 (interrupted)  \n",
    "\n",
    "model 4: loss: 0.7825 - accuracy: 0.4816 - val_loss: 0.6931 - val_accuracy: 0.4818  \n",
    "\n",
    "model 5: loss: 0.4360 - accuracy: 0.8014 - val_loss: 0.4345 - val_accuracy: 0.8052  \n",
    "\n",
    "model 6: loss: 0.4879 - accuracy: 0.7790 - val_loss: 0.4714 - val_accuracy: 0.7721  \n",
    "\n",
    "model 7: loss: 0.3973 - accuracy: 0.8236 - val_loss: 0.4227 - val_accuracy: 0.8132  \n",
    "\n",
    "model 8: loss: 0.0499 - accuracy: 0.9820 - val_loss: 0.6409 - val_accuracy: 0.8771  \n"
   ]
  },
  {
   "cell_type": "code",
   "execution_count": 3,
   "id": "b11b7997-96d6-4786-8886-ec097336a434",
   "metadata": {
    "collapsed": true,
    "jupyter": {
     "outputs_hidden": true
    },
    "tags": []
   },
   "outputs": [
    {
     "name": "stdout",
     "output_type": "stream",
     "text": [
      "Model: \"sequential\"\n",
      "_________________________________________________________________\n",
      " Layer (type)                Output Shape              Param #   \n",
      "=================================================================\n",
      " rescaling (Rescaling)       (None, 256, 256, 1)       0         \n",
      "                                                                 \n",
      " conv2d (Conv2D)             (None, 254, 254, 16)      160       \n",
      "                                                                 \n",
      " max_pooling2d (MaxPooling2D  (None, 127, 127, 16)     0         \n",
      " )                                                               \n",
      "                                                                 \n",
      " conv2d_1 (Conv2D)           (None, 125, 125, 32)      4640      \n",
      "                                                                 \n",
      " max_pooling2d_1 (MaxPooling  (None, 62, 62, 32)       0         \n",
      " 2D)                                                             \n",
      "                                                                 \n",
      " conv2d_2 (Conv2D)           (None, 60, 60, 64)        18496     \n",
      "                                                                 \n",
      " max_pooling2d_2 (MaxPooling  (None, 30, 30, 64)       0         \n",
      " 2D)                                                             \n",
      "                                                                 \n",
      " flatten (Flatten)           (None, 57600)             0         \n",
      "                                                                 \n",
      " dropout (Dropout)           (None, 57600)             0         \n",
      "                                                                 \n",
      " dense (Dense)               (None, 2)                 115202    \n",
      "                                                                 \n",
      "=================================================================\n",
      "Total params: 138,498\n",
      "Trainable params: 138,498\n",
      "Non-trainable params: 0\n",
      "_________________________________________________________________\n"
     ]
    }
   ],
   "source": [
    "input_shape = (256, 256, 1)\n",
    "num_classes=2\n",
    "\n",
    "model1 = keras.Sequential(\n",
    "    [\n",
    "        layers.Rescaling(1./255, input_shape=input_shape),\n",
    "                         \n",
    "        layers.Conv2D(16, kernel_size=(3,3), activation=\"relu\"), # conv layer\n",
    "        layers.MaxPooling2D(pool_size=(2, 2)),\n",
    "                         \n",
    "        layers.Conv2D(32, kernel_size=(3,3), activation=\"relu\"), # conv layer\n",
    "        layers.MaxPooling2D(pool_size=(2, 2)),\n",
    "        \n",
    "        layers.Conv2D(64, kernel_size=(3,3), activation=\"relu\"), # conv layer\n",
    "        layers.MaxPooling2D(pool_size=(2, 2)),\n",
    "        \n",
    "        layers.Flatten(), # Dimensionality reduction (feature map)\n",
    "        layers.Dropout(0.5), # Output layer\n",
    "        layers.Dense(num_classes) # fully connected layer\n",
    "    ])\n",
    "\n",
    "model1.compile(optimizer='SGD',\n",
    "              loss='sparse_categorical_crossentropy',\n",
    "              metrics=['accuracy'])\n",
    "\n",
    "model1.summary()"
   ]
  },
  {
   "cell_type": "code",
   "execution_count": 28,
   "id": "169e35c3-b0ff-4646-864b-29df0ec21874",
   "metadata": {
    "collapsed": true,
    "jupyter": {
     "outputs_hidden": true
    },
    "tags": []
   },
   "outputs": [
    {
     "name": "stdout",
     "output_type": "stream",
     "text": [
      "Model: \"sequential_6\"\n",
      "_________________________________________________________________\n",
      " Layer (type)                Output Shape              Param #   \n",
      "=================================================================\n",
      " rescaling_10 (Rescaling)    (None, 256, 256, 1)       0         \n",
      "                                                                 \n",
      " conv2d_20 (Conv2D)          (None, 254, 254, 32)      320       \n",
      "                                                                 \n",
      " max_pooling2d_20 (MaxPoolin  (None, 127, 127, 32)     0         \n",
      " g2D)                                                            \n",
      "                                                                 \n",
      " conv2d_21 (Conv2D)          (None, 125, 125, 64)      18496     \n",
      "                                                                 \n",
      " max_pooling2d_21 (MaxPoolin  (None, 62, 62, 64)       0         \n",
      " g2D)                                                            \n",
      "                                                                 \n",
      " flatten_7 (Flatten)         (None, 246016)            0         \n",
      "                                                                 \n",
      " dropout_6 (Dropout)         (None, 246016)            0         \n",
      "                                                                 \n",
      " dense_6 (Dense)             (None, 2)                 492034    \n",
      "                                                                 \n",
      "=================================================================\n",
      "Total params: 510,850\n",
      "Trainable params: 510,850\n",
      "Non-trainable params: 0\n",
      "_________________________________________________________________\n"
     ]
    }
   ],
   "source": [
    "input_shape = (256, 256, 1)\n",
    "num_classes=2\n",
    "\n",
    "model2 = keras.Sequential(\n",
    "    [\n",
    "        layers.Rescaling(1./255, input_shape=input_shape),\n",
    "                         \n",
    "        layers.Conv2D(32, kernel_size=(3,3), activation=\"relu\"), # conv layer\n",
    "        layers.MaxPooling2D(),\n",
    "        \n",
    "        layers.Conv2D(64, kernel_size=(3,3), activation=\"relu\"), # conv layer\n",
    "        layers.MaxPooling2D(),\n",
    "        \n",
    "        layers.Flatten(), # Dimensionality reduction (feature map)\n",
    "        layers.Dropout(0.5), # Output layer\n",
    "        layers.Dense(num_classes) # fully connected layer\n",
    "    ])\n",
    "\n",
    "model2.compile(optimizer='SGD',\n",
    "              loss='sparse_categorical_crossentropy',\n",
    "              metrics=['accuracy'])\n",
    "\n",
    "model2.summary()"
   ]
  },
  {
   "cell_type": "code",
   "execution_count": 39,
   "id": "5e3fe43d-e107-4352-b493-1d27b879f03e",
   "metadata": {
    "collapsed": true,
    "jupyter": {
     "outputs_hidden": true
    },
    "tags": []
   },
   "outputs": [
    {
     "name": "stdout",
     "output_type": "stream",
     "text": [
      "Model: \"sequential_10\"\n",
      "_________________________________________________________________\n",
      " Layer (type)                Output Shape              Param #   \n",
      "=================================================================\n",
      " rescaling_14 (Rescaling)    (None, 256, 256, 1)       0         \n",
      "                                                                 \n",
      " conv2d_28 (Conv2D)          (None, 254, 254, 32)      320       \n",
      "                                                                 \n",
      " max_pooling2d_28 (MaxPoolin  (None, 127, 127, 32)     0         \n",
      " g2D)                                                            \n",
      "                                                                 \n",
      " conv2d_29 (Conv2D)          (None, 125, 125, 64)      18496     \n",
      "                                                                 \n",
      " max_pooling2d_29 (MaxPoolin  (None, 62, 62, 64)       0         \n",
      " g2D)                                                            \n",
      "                                                                 \n",
      " flatten_11 (Flatten)        (None, 246016)            0         \n",
      "                                                                 \n",
      " dropout_10 (Dropout)        (None, 246016)            0         \n",
      "                                                                 \n",
      " dense_10 (Dense)            (None, 2)                 492034    \n",
      "                                                                 \n",
      "=================================================================\n",
      "Total params: 510,850\n",
      "Trainable params: 510,850\n",
      "Non-trainable params: 0\n",
      "_________________________________________________________________\n"
     ]
    }
   ],
   "source": [
    "input_shape = (256, 256, 1)\n",
    "num_classes=2\n",
    "\n",
    "model3 = keras.Sequential(\n",
    "    [\n",
    "        layers.Rescaling(1./255, input_shape=input_shape),\n",
    "                         \n",
    "        layers.Conv2D(32, kernel_size=(3,3), activation=\"relu\"), # conv layer\n",
    "        layers.MaxPooling2D(),\n",
    "        \n",
    "        layers.Conv2D(64, kernel_size=(3,3), activation=\"relu\"), # conv layer\n",
    "        layers.MaxPooling2D(),\n",
    "        \n",
    "        layers.Flatten(), # Dimensionality reduction (feature map)\n",
    "        layers.Dropout(0.5), # Output layer\n",
    "        layers.Dense(num_classes) # fully connected layer\n",
    "    ])\n",
    "\n",
    "model3.compile(optimizer='SGD',\n",
    "              loss='sparse_categorical_crossentropy',\n",
    "              metrics=['accuracy'])\n",
    "\n",
    "model3.summary()"
   ]
  },
  {
   "cell_type": "code",
   "execution_count": 43,
   "id": "ab3f118e-c7c4-4480-b1fa-e17f702cf148",
   "metadata": {
    "collapsed": true,
    "jupyter": {
     "outputs_hidden": true
    },
    "tags": []
   },
   "outputs": [
    {
     "name": "stdout",
     "output_type": "stream",
     "text": [
      "Model: \"sequential_12\"\n",
      "_________________________________________________________________\n",
      " Layer (type)                Output Shape              Param #   \n",
      "=================================================================\n",
      " rescaling_16 (Rescaling)    (None, 256, 256, 1)       0         \n",
      "                                                                 \n",
      " conv2d_32 (Conv2D)          (None, 254, 254, 32)      320       \n",
      "                                                                 \n",
      " max_pooling2d_32 (MaxPoolin  (None, 127, 127, 32)     0         \n",
      " g2D)                                                            \n",
      "                                                                 \n",
      " conv2d_33 (Conv2D)          (None, 125, 125, 64)      18496     \n",
      "                                                                 \n",
      " max_pooling2d_33 (MaxPoolin  (None, 62, 62, 64)       0         \n",
      " g2D)                                                            \n",
      "                                                                 \n",
      " conv2d_34 (Conv2D)          (None, 60, 60, 128)       73856     \n",
      "                                                                 \n",
      " max_pooling2d_34 (MaxPoolin  (None, 30, 30, 128)      0         \n",
      " g2D)                                                            \n",
      "                                                                 \n",
      " flatten_13 (Flatten)        (None, 115200)            0         \n",
      "                                                                 \n",
      " dropout_12 (Dropout)        (None, 115200)            0         \n",
      "                                                                 \n",
      " dense_12 (Dense)            (None, 2)                 230402    \n",
      "                                                                 \n",
      "=================================================================\n",
      "Total params: 323,074\n",
      "Trainable params: 323,074\n",
      "Non-trainable params: 0\n",
      "_________________________________________________________________\n"
     ]
    }
   ],
   "source": [
    "input_shape = (256, 256, 1)\n",
    "num_classes=2\n",
    "\n",
    "model4 = keras.Sequential(\n",
    "    [\n",
    "        layers.Rescaling(1./255, input_shape=input_shape),\n",
    "                         \n",
    "        layers.Conv2D(32, kernel_size=(3,3), activation=\"relu\"), # conv layer\n",
    "        layers.MaxPooling2D(),\n",
    "        \n",
    "        layers.Conv2D(64, kernel_size=(3,3), activation=\"relu\"), # conv layer\n",
    "        layers.MaxPooling2D(),\n",
    "        \n",
    "        layers.Conv2D(128, kernel_size=(3,3), activation=\"relu\"), # conv layer\n",
    "        layers.MaxPooling2D(),\n",
    "        \n",
    "        layers.Flatten(), # Dimensionality reduction (feature map)\n",
    "        layers.Dropout(0.5), # Output layer\n",
    "        layers.Dense(num_classes) # fully connected layer\n",
    "    ])\n",
    "\n",
    "model4.compile(optimizer='adam',\n",
    "              loss='sparse_categorical_crossentropy',\n",
    "              metrics=['accuracy'])\n",
    "\n",
    "model4.summary()"
   ]
  },
  {
   "cell_type": "code",
   "execution_count": 56,
   "id": "39a4fd8b-2583-4638-bbce-b5850cacc680",
   "metadata": {
    "collapsed": true,
    "jupyter": {
     "outputs_hidden": true
    },
    "tags": []
   },
   "outputs": [
    {
     "name": "stdout",
     "output_type": "stream",
     "text": [
      "Model: \"sequential_15\"\n",
      "_________________________________________________________________\n",
      " Layer (type)                Output Shape              Param #   \n",
      "=================================================================\n",
      " rescaling_13 (Rescaling)    (None, 256, 256, 3)       0         \n",
      "                                                                 \n",
      " flatten_13 (Flatten)        (None, 196608)            0         \n",
      "                                                                 \n",
      " dense_45 (Dense)            (None, 300)               58982700  \n",
      "                                                                 \n",
      " flatten_14 (Flatten)        (None, 300)               0         \n",
      "                                                                 \n",
      " dense_46 (Dense)            (None, 100)               30100     \n",
      "                                                                 \n",
      " flatten_15 (Flatten)        (None, 100)               0         \n",
      "                                                                 \n",
      " dense_47 (Dense)            (None, 2)                 202       \n",
      "                                                                 \n",
      "=================================================================\n",
      "Total params: 59,013,002\n",
      "Trainable params: 59,013,002\n",
      "Non-trainable params: 0\n",
      "_________________________________________________________________\n"
     ]
    }
   ],
   "source": [
    "shape = (256, 256, 3)\n",
    "num_classes=2\n",
    "\n",
    "model5 = keras.Sequential(\n",
    "    [\n",
    "        layers.Rescaling(1./255, input_shape=shape), # input\n",
    "        layers.Flatten(),\n",
    "        \n",
    "        layers.Dense(300, activation=\"relu\"), # layer\n",
    "        layers.Flatten(),\n",
    "        \n",
    "        layers.Dense(100, activation=\"relu\"), # layer\n",
    "        layers.Flatten(),\n",
    "        \n",
    "        layers.Dense(num_classes, activation=\"sigmoid\") # output\n",
    "    ])\n",
    "\n",
    "model5.compile(optimizer='SGD',\n",
    "              loss='sparse_categorical_crossentropy',\n",
    "              metrics=['accuracy'])\n",
    "\n",
    "model5.summary()"
   ]
  },
  {
   "cell_type": "code",
   "execution_count": 60,
   "id": "b3b5b65b-9bd8-4b6e-8557-0e6fc3125403",
   "metadata": {
    "collapsed": true,
    "jupyter": {
     "outputs_hidden": true
    },
    "tags": []
   },
   "outputs": [
    {
     "name": "stdout",
     "output_type": "stream",
     "text": [
      "Model: \"sequential_16\"\n",
      "_________________________________________________________________\n",
      " Layer (type)                Output Shape              Param #   \n",
      "=================================================================\n",
      " rescaling_14 (Rescaling)    (None, 256, 256, 3)       0         \n",
      "                                                                 \n",
      " flatten_16 (Flatten)        (None, 196608)            0         \n",
      "                                                                 \n",
      " dense_48 (Dense)            (None, 300)               58982700  \n",
      "                                                                 \n",
      " flatten_17 (Flatten)        (None, 300)               0         \n",
      "                                                                 \n",
      " dense_49 (Dense)            (None, 100)               30100     \n",
      "                                                                 \n",
      " flatten_18 (Flatten)        (None, 100)               0         \n",
      "                                                                 \n",
      " dense_50 (Dense)            (None, 2)                 202       \n",
      "                                                                 \n",
      "=================================================================\n",
      "Total params: 59,013,002\n",
      "Trainable params: 59,013,002\n",
      "Non-trainable params: 0\n",
      "_________________________________________________________________\n"
     ]
    }
   ],
   "source": [
    "shape = (256, 256, 3)\n",
    "num_classes=2\n",
    "\n",
    "model6 = keras.Sequential(\n",
    "    [\n",
    "        layers.Rescaling(1./255, input_shape=shape), # input\n",
    "        layers.Flatten(),\n",
    "        \n",
    "        layers.Dense(300, activation=\"relu\"), # layer\n",
    "        layers.Flatten(),\n",
    "        \n",
    "        layers.Dense(100, activation=\"relu\"), # layer\n",
    "        layers.Flatten(),\n",
    "        \n",
    "        layers.Dense(num_classes, activation=\"softmax\") # output\n",
    "    ])\n",
    "\n",
    "model6.compile(optimizer='adam',\n",
    "              loss='sparse_categorical_crossentropy',\n",
    "              metrics=['accuracy'])\n",
    "\n",
    "model6.summary()"
   ]
  },
  {
   "cell_type": "code",
   "execution_count": null,
   "id": "b1432589-c520-4473-adc4-3cf656de09b7",
   "metadata": {},
   "outputs": [],
   "source": [
    "shape = (256, 256, 3)\n",
    "num_classes=2\n",
    "\n",
    "model7 = keras.Sequential(\n",
    "    [   \n",
    "        layers.Rescaling(1./255, input_shape=shape), # input\n",
    "        layers.Flatten(),\n",
    "        \n",
    "        layers.Dense(200, activation=\"relu\"), # layer\n",
    "        layers.Flatten(),\n",
    "        \n",
    "        layers.Dense(100, activation=\"relu\"), # layer\n",
    "        layers.Flatten(),\n",
    "\n",
    "        layers.Dense(100, activation=\"relu\"), # layer\n",
    "        layers.Flatten(),\n",
    "        \n",
    "        layers.Dense(num_classes, activation=\"softmax\") # output\n",
    "    ])\n",
    "\n",
    "model7.compile(optimizer='adam',\n",
    "              loss='sparse_categorical_crossentropy',\n",
    "              metrics=['accuracy'])"
   ]
  },
  {
   "cell_type": "code",
   "execution_count": 6,
   "id": "22e4667b-88c0-4ae4-9795-57d04cff9a47",
   "metadata": {},
   "outputs": [],
   "source": [
    "shape = (256, 256, 3)\n",
    "num_classes=2\n",
    "\n",
    "model8 = keras.Sequential(\n",
    "    [   \n",
    "        layers.Rescaling(1./255, input_shape=shape), # input\n",
    "        layers.MaxPooling2D(2),\n",
    "     \n",
    "        layers.Conv2D(200, kernel_size=(3, 3), activation=\"relu\"), # layer\n",
    "        layers.MaxPooling2D(2),\n",
    "        \n",
    "        layers.Conv2D(150, kernel_size=(3, 3), activation=\"relu\"), # layer\n",
    "        layers.MaxPooling2D(2),\n",
    "\n",
    "        layers.Conv2D(50, kernel_size=(3, 3), activation=\"relu\"), # layer\n",
    "        layers.MaxPooling2D(2),\n",
    "        layers.Flatten(),\n",
    "        \n",
    "        layers.Dense(num_classes, activation=\"softmax\") # output\n",
    "    ])\n",
    "\n",
    "model8.compile(optimizer='adam',\n",
    "              loss='sparse_categorical_crossentropy',\n",
    "              metrics=['accuracy'])"
   ]
  },
  {
   "cell_type": "code",
   "execution_count": 7,
   "id": "c1cdf0ab-6550-480f-8ae7-42a013e6f153",
   "metadata": {},
   "outputs": [
    {
     "name": "stdout",
     "output_type": "stream",
     "text": [
      "Epoch 1/25\n",
      "265/265 [==============================] - 549s 2s/step - loss: 0.5114 - accuracy: 0.7470 - val_loss: 0.4393 - val_accuracy: 0.7953\n",
      "Epoch 2/25\n",
      "265/265 [==============================] - 517s 2s/step - loss: 0.4171 - accuracy: 0.8146 - val_loss: 0.3773 - val_accuracy: 0.8336\n",
      "Epoch 3/25\n",
      "265/265 [==============================] - 524s 2s/step - loss: 0.3902 - accuracy: 0.8312 - val_loss: 0.4130 - val_accuracy: 0.8132\n",
      "Epoch 4/25\n",
      "237/265 [=========================>....] - ETA: 55s - loss: 0.3617 - accuracy: 0.8452"
     ]
    },
    {
     "ename": "KeyboardInterrupt",
     "evalue": "",
     "output_type": "error",
     "traceback": [
      "\u001b[1;31m---------------------------------------------------------------------------\u001b[0m",
      "\u001b[1;31mKeyboardInterrupt\u001b[0m                         Traceback (most recent call last)",
      "Cell \u001b[1;32mIn[7], line 1\u001b[0m\n\u001b[1;32m----> 1\u001b[0m model8 \u001b[38;5;241m=\u001b[39m \u001b[43mmodel8\u001b[49m\u001b[38;5;241;43m.\u001b[39;49m\u001b[43mfit\u001b[49m\u001b[43m(\u001b[49m\u001b[43mtrain\u001b[49m\u001b[43m,\u001b[49m\u001b[43m \u001b[49m\u001b[43mvalidation_data\u001b[49m\u001b[38;5;241;43m=\u001b[39;49m\u001b[43mvalid\u001b[49m\u001b[43m,\u001b[49m\u001b[43m \u001b[49m\u001b[43mverbose\u001b[49m\u001b[38;5;241;43m=\u001b[39;49m\u001b[38;5;241;43m1\u001b[39;49m\u001b[43m,\u001b[49m\u001b[43m \u001b[49m\u001b[43mepochs\u001b[49m\u001b[38;5;241;43m=\u001b[39;49m\u001b[38;5;241;43m25\u001b[39;49m\u001b[43m)\u001b[49m\n",
      "File \u001b[1;32m~\\anaconda3\\lib\\site-packages\\keras\\utils\\traceback_utils.py:65\u001b[0m, in \u001b[0;36mfilter_traceback.<locals>.error_handler\u001b[1;34m(*args, **kwargs)\u001b[0m\n\u001b[0;32m     63\u001b[0m filtered_tb \u001b[38;5;241m=\u001b[39m \u001b[38;5;28;01mNone\u001b[39;00m\n\u001b[0;32m     64\u001b[0m \u001b[38;5;28;01mtry\u001b[39;00m:\n\u001b[1;32m---> 65\u001b[0m     \u001b[38;5;28;01mreturn\u001b[39;00m fn(\u001b[38;5;241m*\u001b[39margs, \u001b[38;5;241m*\u001b[39m\u001b[38;5;241m*\u001b[39mkwargs)\n\u001b[0;32m     66\u001b[0m \u001b[38;5;28;01mexcept\u001b[39;00m \u001b[38;5;167;01mException\u001b[39;00m \u001b[38;5;28;01mas\u001b[39;00m e:\n\u001b[0;32m     67\u001b[0m     filtered_tb \u001b[38;5;241m=\u001b[39m _process_traceback_frames(e\u001b[38;5;241m.\u001b[39m__traceback__)\n",
      "File \u001b[1;32m~\\anaconda3\\lib\\site-packages\\keras\\engine\\training.py:1650\u001b[0m, in \u001b[0;36mModel.fit\u001b[1;34m(self, x, y, batch_size, epochs, verbose, callbacks, validation_split, validation_data, shuffle, class_weight, sample_weight, initial_epoch, steps_per_epoch, validation_steps, validation_batch_size, validation_freq, max_queue_size, workers, use_multiprocessing)\u001b[0m\n\u001b[0;32m   1642\u001b[0m \u001b[38;5;28;01mwith\u001b[39;00m tf\u001b[38;5;241m.\u001b[39mprofiler\u001b[38;5;241m.\u001b[39mexperimental\u001b[38;5;241m.\u001b[39mTrace(\n\u001b[0;32m   1643\u001b[0m     \u001b[38;5;124m\"\u001b[39m\u001b[38;5;124mtrain\u001b[39m\u001b[38;5;124m\"\u001b[39m,\n\u001b[0;32m   1644\u001b[0m     epoch_num\u001b[38;5;241m=\u001b[39mepoch,\n\u001b[1;32m   (...)\u001b[0m\n\u001b[0;32m   1647\u001b[0m     _r\u001b[38;5;241m=\u001b[39m\u001b[38;5;241m1\u001b[39m,\n\u001b[0;32m   1648\u001b[0m ):\n\u001b[0;32m   1649\u001b[0m     callbacks\u001b[38;5;241m.\u001b[39mon_train_batch_begin(step)\n\u001b[1;32m-> 1650\u001b[0m     tmp_logs \u001b[38;5;241m=\u001b[39m \u001b[38;5;28;43mself\u001b[39;49m\u001b[38;5;241;43m.\u001b[39;49m\u001b[43mtrain_function\u001b[49m\u001b[43m(\u001b[49m\u001b[43miterator\u001b[49m\u001b[43m)\u001b[49m\n\u001b[0;32m   1651\u001b[0m     \u001b[38;5;28;01mif\u001b[39;00m data_handler\u001b[38;5;241m.\u001b[39mshould_sync:\n\u001b[0;32m   1652\u001b[0m         context\u001b[38;5;241m.\u001b[39masync_wait()\n",
      "File \u001b[1;32m~\\anaconda3\\lib\\site-packages\\tensorflow\\python\\util\\traceback_utils.py:150\u001b[0m, in \u001b[0;36mfilter_traceback.<locals>.error_handler\u001b[1;34m(*args, **kwargs)\u001b[0m\n\u001b[0;32m    148\u001b[0m filtered_tb \u001b[38;5;241m=\u001b[39m \u001b[38;5;28;01mNone\u001b[39;00m\n\u001b[0;32m    149\u001b[0m \u001b[38;5;28;01mtry\u001b[39;00m:\n\u001b[1;32m--> 150\u001b[0m   \u001b[38;5;28;01mreturn\u001b[39;00m fn(\u001b[38;5;241m*\u001b[39margs, \u001b[38;5;241m*\u001b[39m\u001b[38;5;241m*\u001b[39mkwargs)\n\u001b[0;32m    151\u001b[0m \u001b[38;5;28;01mexcept\u001b[39;00m \u001b[38;5;167;01mException\u001b[39;00m \u001b[38;5;28;01mas\u001b[39;00m e:\n\u001b[0;32m    152\u001b[0m   filtered_tb \u001b[38;5;241m=\u001b[39m _process_traceback_frames(e\u001b[38;5;241m.\u001b[39m__traceback__)\n",
      "File \u001b[1;32m~\\anaconda3\\lib\\site-packages\\tensorflow\\python\\eager\\polymorphic_function\\polymorphic_function.py:880\u001b[0m, in \u001b[0;36mFunction.__call__\u001b[1;34m(self, *args, **kwds)\u001b[0m\n\u001b[0;32m    877\u001b[0m compiler \u001b[38;5;241m=\u001b[39m \u001b[38;5;124m\"\u001b[39m\u001b[38;5;124mxla\u001b[39m\u001b[38;5;124m\"\u001b[39m \u001b[38;5;28;01mif\u001b[39;00m \u001b[38;5;28mself\u001b[39m\u001b[38;5;241m.\u001b[39m_jit_compile \u001b[38;5;28;01melse\u001b[39;00m \u001b[38;5;124m\"\u001b[39m\u001b[38;5;124mnonXla\u001b[39m\u001b[38;5;124m\"\u001b[39m\n\u001b[0;32m    879\u001b[0m \u001b[38;5;28;01mwith\u001b[39;00m OptionalXlaContext(\u001b[38;5;28mself\u001b[39m\u001b[38;5;241m.\u001b[39m_jit_compile):\n\u001b[1;32m--> 880\u001b[0m   result \u001b[38;5;241m=\u001b[39m \u001b[38;5;28mself\u001b[39m\u001b[38;5;241m.\u001b[39m_call(\u001b[38;5;241m*\u001b[39margs, \u001b[38;5;241m*\u001b[39m\u001b[38;5;241m*\u001b[39mkwds)\n\u001b[0;32m    882\u001b[0m new_tracing_count \u001b[38;5;241m=\u001b[39m \u001b[38;5;28mself\u001b[39m\u001b[38;5;241m.\u001b[39mexperimental_get_tracing_count()\n\u001b[0;32m    883\u001b[0m without_tracing \u001b[38;5;241m=\u001b[39m (tracing_count \u001b[38;5;241m==\u001b[39m new_tracing_count)\n",
      "File \u001b[1;32m~\\anaconda3\\lib\\site-packages\\tensorflow\\python\\eager\\polymorphic_function\\polymorphic_function.py:912\u001b[0m, in \u001b[0;36mFunction._call\u001b[1;34m(self, *args, **kwds)\u001b[0m\n\u001b[0;32m    909\u001b[0m   \u001b[38;5;28mself\u001b[39m\u001b[38;5;241m.\u001b[39m_lock\u001b[38;5;241m.\u001b[39mrelease()\n\u001b[0;32m    910\u001b[0m   \u001b[38;5;66;03m# In this case we have created variables on the first call, so we run the\u001b[39;00m\n\u001b[0;32m    911\u001b[0m   \u001b[38;5;66;03m# defunned version which is guaranteed to never create variables.\u001b[39;00m\n\u001b[1;32m--> 912\u001b[0m   \u001b[38;5;28;01mreturn\u001b[39;00m \u001b[38;5;28mself\u001b[39m\u001b[38;5;241m.\u001b[39m_no_variable_creation_fn(\u001b[38;5;241m*\u001b[39margs, \u001b[38;5;241m*\u001b[39m\u001b[38;5;241m*\u001b[39mkwds)  \u001b[38;5;66;03m# pylint: disable=not-callable\u001b[39;00m\n\u001b[0;32m    913\u001b[0m \u001b[38;5;28;01melif\u001b[39;00m \u001b[38;5;28mself\u001b[39m\u001b[38;5;241m.\u001b[39m_variable_creation_fn \u001b[38;5;129;01mis\u001b[39;00m \u001b[38;5;129;01mnot\u001b[39;00m \u001b[38;5;28;01mNone\u001b[39;00m:\n\u001b[0;32m    914\u001b[0m   \u001b[38;5;66;03m# Release the lock early so that multiple threads can perform the call\u001b[39;00m\n\u001b[0;32m    915\u001b[0m   \u001b[38;5;66;03m# in parallel.\u001b[39;00m\n\u001b[0;32m    916\u001b[0m   \u001b[38;5;28mself\u001b[39m\u001b[38;5;241m.\u001b[39m_lock\u001b[38;5;241m.\u001b[39mrelease()\n",
      "File \u001b[1;32m~\\anaconda3\\lib\\site-packages\\tensorflow\\python\\eager\\polymorphic_function\\tracing_compiler.py:134\u001b[0m, in \u001b[0;36mTracingCompiler.__call__\u001b[1;34m(self, *args, **kwargs)\u001b[0m\n\u001b[0;32m    131\u001b[0m \u001b[38;5;28;01mwith\u001b[39;00m \u001b[38;5;28mself\u001b[39m\u001b[38;5;241m.\u001b[39m_lock:\n\u001b[0;32m    132\u001b[0m   (concrete_function,\n\u001b[0;32m    133\u001b[0m    filtered_flat_args) \u001b[38;5;241m=\u001b[39m \u001b[38;5;28mself\u001b[39m\u001b[38;5;241m.\u001b[39m_maybe_define_function(args, kwargs)\n\u001b[1;32m--> 134\u001b[0m \u001b[38;5;28;01mreturn\u001b[39;00m \u001b[43mconcrete_function\u001b[49m\u001b[38;5;241;43m.\u001b[39;49m\u001b[43m_call_flat\u001b[49m\u001b[43m(\u001b[49m\n\u001b[0;32m    135\u001b[0m \u001b[43m    \u001b[49m\u001b[43mfiltered_flat_args\u001b[49m\u001b[43m,\u001b[49m\u001b[43m \u001b[49m\u001b[43mcaptured_inputs\u001b[49m\u001b[38;5;241;43m=\u001b[39;49m\u001b[43mconcrete_function\u001b[49m\u001b[38;5;241;43m.\u001b[39;49m\u001b[43mcaptured_inputs\u001b[49m\u001b[43m)\u001b[49m\n",
      "File \u001b[1;32m~\\anaconda3\\lib\\site-packages\\tensorflow\\python\\eager\\polymorphic_function\\monomorphic_function.py:1745\u001b[0m, in \u001b[0;36mConcreteFunction._call_flat\u001b[1;34m(self, args, captured_inputs, cancellation_manager)\u001b[0m\n\u001b[0;32m   1741\u001b[0m possible_gradient_type \u001b[38;5;241m=\u001b[39m gradients_util\u001b[38;5;241m.\u001b[39mPossibleTapeGradientTypes(args)\n\u001b[0;32m   1742\u001b[0m \u001b[38;5;28;01mif\u001b[39;00m (possible_gradient_type \u001b[38;5;241m==\u001b[39m gradients_util\u001b[38;5;241m.\u001b[39mPOSSIBLE_GRADIENT_TYPES_NONE\n\u001b[0;32m   1743\u001b[0m     \u001b[38;5;129;01mand\u001b[39;00m executing_eagerly):\n\u001b[0;32m   1744\u001b[0m   \u001b[38;5;66;03m# No tape is watching; skip to running the function.\u001b[39;00m\n\u001b[1;32m-> 1745\u001b[0m   \u001b[38;5;28;01mreturn\u001b[39;00m \u001b[38;5;28mself\u001b[39m\u001b[38;5;241m.\u001b[39m_build_call_outputs(\u001b[38;5;28;43mself\u001b[39;49m\u001b[38;5;241;43m.\u001b[39;49m\u001b[43m_inference_function\u001b[49m\u001b[38;5;241;43m.\u001b[39;49m\u001b[43mcall\u001b[49m\u001b[43m(\u001b[49m\n\u001b[0;32m   1746\u001b[0m \u001b[43m      \u001b[49m\u001b[43mctx\u001b[49m\u001b[43m,\u001b[49m\u001b[43m \u001b[49m\u001b[43margs\u001b[49m\u001b[43m,\u001b[49m\u001b[43m \u001b[49m\u001b[43mcancellation_manager\u001b[49m\u001b[38;5;241;43m=\u001b[39;49m\u001b[43mcancellation_manager\u001b[49m\u001b[43m)\u001b[49m)\n\u001b[0;32m   1747\u001b[0m forward_backward \u001b[38;5;241m=\u001b[39m \u001b[38;5;28mself\u001b[39m\u001b[38;5;241m.\u001b[39m_select_forward_and_backward_functions(\n\u001b[0;32m   1748\u001b[0m     args,\n\u001b[0;32m   1749\u001b[0m     possible_gradient_type,\n\u001b[0;32m   1750\u001b[0m     executing_eagerly)\n\u001b[0;32m   1751\u001b[0m forward_function, args_with_tangents \u001b[38;5;241m=\u001b[39m forward_backward\u001b[38;5;241m.\u001b[39mforward()\n",
      "File \u001b[1;32m~\\anaconda3\\lib\\site-packages\\tensorflow\\python\\eager\\polymorphic_function\\monomorphic_function.py:378\u001b[0m, in \u001b[0;36m_EagerDefinedFunction.call\u001b[1;34m(self, ctx, args, cancellation_manager)\u001b[0m\n\u001b[0;32m    376\u001b[0m \u001b[38;5;28;01mwith\u001b[39;00m _InterpolateFunctionError(\u001b[38;5;28mself\u001b[39m):\n\u001b[0;32m    377\u001b[0m   \u001b[38;5;28;01mif\u001b[39;00m cancellation_manager \u001b[38;5;129;01mis\u001b[39;00m \u001b[38;5;28;01mNone\u001b[39;00m:\n\u001b[1;32m--> 378\u001b[0m     outputs \u001b[38;5;241m=\u001b[39m \u001b[43mexecute\u001b[49m\u001b[38;5;241;43m.\u001b[39;49m\u001b[43mexecute\u001b[49m\u001b[43m(\u001b[49m\n\u001b[0;32m    379\u001b[0m \u001b[43m        \u001b[49m\u001b[38;5;28;43mstr\u001b[39;49m\u001b[43m(\u001b[49m\u001b[38;5;28;43mself\u001b[39;49m\u001b[38;5;241;43m.\u001b[39;49m\u001b[43msignature\u001b[49m\u001b[38;5;241;43m.\u001b[39;49m\u001b[43mname\u001b[49m\u001b[43m)\u001b[49m\u001b[43m,\u001b[49m\n\u001b[0;32m    380\u001b[0m \u001b[43m        \u001b[49m\u001b[43mnum_outputs\u001b[49m\u001b[38;5;241;43m=\u001b[39;49m\u001b[38;5;28;43mself\u001b[39;49m\u001b[38;5;241;43m.\u001b[39;49m\u001b[43m_num_outputs\u001b[49m\u001b[43m,\u001b[49m\n\u001b[0;32m    381\u001b[0m \u001b[43m        \u001b[49m\u001b[43minputs\u001b[49m\u001b[38;5;241;43m=\u001b[39;49m\u001b[43margs\u001b[49m\u001b[43m,\u001b[49m\n\u001b[0;32m    382\u001b[0m \u001b[43m        \u001b[49m\u001b[43mattrs\u001b[49m\u001b[38;5;241;43m=\u001b[39;49m\u001b[43mattrs\u001b[49m\u001b[43m,\u001b[49m\n\u001b[0;32m    383\u001b[0m \u001b[43m        \u001b[49m\u001b[43mctx\u001b[49m\u001b[38;5;241;43m=\u001b[39;49m\u001b[43mctx\u001b[49m\u001b[43m)\u001b[49m\n\u001b[0;32m    384\u001b[0m   \u001b[38;5;28;01melse\u001b[39;00m:\n\u001b[0;32m    385\u001b[0m     outputs \u001b[38;5;241m=\u001b[39m execute\u001b[38;5;241m.\u001b[39mexecute_with_cancellation(\n\u001b[0;32m    386\u001b[0m         \u001b[38;5;28mstr\u001b[39m(\u001b[38;5;28mself\u001b[39m\u001b[38;5;241m.\u001b[39msignature\u001b[38;5;241m.\u001b[39mname),\n\u001b[0;32m    387\u001b[0m         num_outputs\u001b[38;5;241m=\u001b[39m\u001b[38;5;28mself\u001b[39m\u001b[38;5;241m.\u001b[39m_num_outputs,\n\u001b[1;32m   (...)\u001b[0m\n\u001b[0;32m    390\u001b[0m         ctx\u001b[38;5;241m=\u001b[39mctx,\n\u001b[0;32m    391\u001b[0m         cancellation_manager\u001b[38;5;241m=\u001b[39mcancellation_manager)\n",
      "File \u001b[1;32m~\\anaconda3\\lib\\site-packages\\tensorflow\\python\\eager\\execute.py:52\u001b[0m, in \u001b[0;36mquick_execute\u001b[1;34m(op_name, num_outputs, inputs, attrs, ctx, name)\u001b[0m\n\u001b[0;32m     50\u001b[0m \u001b[38;5;28;01mtry\u001b[39;00m:\n\u001b[0;32m     51\u001b[0m   ctx\u001b[38;5;241m.\u001b[39mensure_initialized()\n\u001b[1;32m---> 52\u001b[0m   tensors \u001b[38;5;241m=\u001b[39m \u001b[43mpywrap_tfe\u001b[49m\u001b[38;5;241;43m.\u001b[39;49m\u001b[43mTFE_Py_Execute\u001b[49m\u001b[43m(\u001b[49m\u001b[43mctx\u001b[49m\u001b[38;5;241;43m.\u001b[39;49m\u001b[43m_handle\u001b[49m\u001b[43m,\u001b[49m\u001b[43m \u001b[49m\u001b[43mdevice_name\u001b[49m\u001b[43m,\u001b[49m\u001b[43m \u001b[49m\u001b[43mop_name\u001b[49m\u001b[43m,\u001b[49m\n\u001b[0;32m     53\u001b[0m \u001b[43m                                      \u001b[49m\u001b[43minputs\u001b[49m\u001b[43m,\u001b[49m\u001b[43m \u001b[49m\u001b[43mattrs\u001b[49m\u001b[43m,\u001b[49m\u001b[43m \u001b[49m\u001b[43mnum_outputs\u001b[49m\u001b[43m)\u001b[49m\n\u001b[0;32m     54\u001b[0m \u001b[38;5;28;01mexcept\u001b[39;00m core\u001b[38;5;241m.\u001b[39m_NotOkStatusException \u001b[38;5;28;01mas\u001b[39;00m e:\n\u001b[0;32m     55\u001b[0m   \u001b[38;5;28;01mif\u001b[39;00m name \u001b[38;5;129;01mis\u001b[39;00m \u001b[38;5;129;01mnot\u001b[39;00m \u001b[38;5;28;01mNone\u001b[39;00m:\n",
      "\u001b[1;31mKeyboardInterrupt\u001b[0m: "
     ]
    }
   ],
   "source": [
    "model8 = model8.fit(train, validation_data=valid, verbose=1, epochs=25)"
   ]
  },
  {
   "cell_type": "code",
   "execution_count": null,
   "id": "35587054-2223-40d2-8352-3ea6a89bf78e",
   "metadata": {},
   "outputs": [],
   "source": [
    "shape = (256, 256, 3)\n",
    "num_classes=2\n",
    "\n",
    "model9 = keras.Sequential(\n",
    "    [   \n",
    "        layers.Rescaling(1./255, input_shape=shape), # input\n",
    "        layers.MaxPooling2D(pool_size=(2, 2)),\n",
    "     \n",
    "        layers.Conv2D(256, kernel_size=(2, 2), activation=\"relu\"), # layer\n",
    "        layers.MaxPooling2D(pool_size=(2, 2)),\n",
    "        \n",
    "        layers.Conv2D(64, kernel_size=(2, 2), activation=\"relu\"), # layer\n",
    "        layers.MaxPooling2D(pool_size=(2, 2)),\n",
    "\n",
    "        layers.Conv2D(32, kernel_size=(2, 2), activation=\"relu\"), # layer\n",
    "        layers.MaxPooling2D(pool_size=(2, 2)),\n",
    "\n",
    "     \n",
    "        layers.Flatten(),\n",
    "        layers.Dropout(0.4),     \n",
    "        layers.Dense(num_classes, activation=\"softmax\") # output\n",
    "    ])\n",
    "\n",
    "model9.compile(optimizer='adam',\n",
    "              loss='sparse_categorical_crossentropy',\n",
    "              metrics=['accuracy'])"
   ]
  }
 ],
 "metadata": {
  "kernelspec": {
   "display_name": "Python 3 (ipykernel)",
   "language": "python",
   "name": "python3"
  },
  "language_info": {
   "codemirror_mode": {
    "name": "ipython",
    "version": 3
   },
   "file_extension": ".py",
   "mimetype": "text/x-python",
   "name": "python",
   "nbconvert_exporter": "python",
   "pygments_lexer": "ipython3",
   "version": "3.9.16"
  }
 },
 "nbformat": 4,
 "nbformat_minor": 5
}
