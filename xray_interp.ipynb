{
 "cells": [
  {
   "cell_type": "code",
   "execution_count": 1,
   "id": "65a9fdc3-11dd-40e1-b59d-e79f0f6f5a81",
   "metadata": {},
   "outputs": [],
   "source": [
    "# Imports\n",
    "\n",
    "# File handling\n",
    "import os\n",
    "import pathlib\n",
    "from zipfile import ZipFile\n",
    "import splitfolders\n",
    "\n",
    "# Visualization\n",
    "import  matplotlib.pyplot as plt\n",
    "import seaborn as sns\n",
    "%matplotlib inline\n",
    "\n",
    "# Data and maths\n",
    "import numpy as np\n",
    "import pandas as pd\n",
    "import random\n",
    "\n",
    "# ML\n",
    "import tensorflow as tf\n",
    "from tensorflow import keras\n",
    "from keras.utils import image_dataset_from_directory\n",
    "from keras.preprocessing.image import ImageDataGenerator\n",
    "\n",
    "from sklearn.utils import shuffle\n",
    "from sklearn.model_selection import train_test_split\n",
    "#from keras.callbacks import CSVLogger # if problems with SAVING model\n",
    "\n",
    "# Metrics\n",
    "from sklearn.metrics import accuracy_score, confusion_matrix, classification_report"
   ]
  },
  {
   "cell_type": "code",
   "execution_count": 19,
   "id": "f10fd2ec-89b7-48af-bd75-61758b03052d",
   "metadata": {},
   "outputs": [
    {
     "name": "stderr",
     "output_type": "stream",
     "text": [
      "Copying files: 21165 files [01:16, 277.95 files/s]\n",
      "Copying files: 0 files [42:48, ? files/s]"
     ]
    }
   ],
   "source": [
    "# image data\n",
    "splitfolders.ratio(\"data/images_unf/\", output=\"images\", seed=586, ratio=(.8, .1, .1), group_prefix=None, move=True)"
   ]
  },
  {
   "cell_type": "code",
   "execution_count": null,
   "id": "86caef0e-4451-48f0-adda-005d8ae1eaf2",
   "metadata": {},
   "outputs": [],
   "source": [
    "# train, test and validation filepaths\n",
    "train_path = 'images/train/'\n",
    "test_path = 'images/test/'\n",
    "valid_path = 'images/valid/'\n",
    "size = (256, 256)\n",
    "classes=['Healthy', 'Diseased']                     ############## HERE ##############\n",
    "\n",
    "# preprocess train, test and valid data\n",
    "train = image_dataset_from_directory(directory=train_path,\n",
    "                         labels='inferred',\n",
    "                         target_size=size,\n",
    "                         color_mode=\"rgb\",\n",
    "                         batch_size=32,\n",
    "                         class_mode=\"categorical\",\n",
    "                         classes=classes,\n",
    "                         shuffle=True,\n",
    "                         seed=42)\n",
    "\n",
    "test = image_dataset_from_directory(directory=test_path,\n",
    "                         labels='inferred',\n",
    "                         target_size=size,\n",
    "                         color_mode=\"rgb\",\n",
    "                         batch_size=32,\n",
    "                         class_mode=\"categorical\",\n",
    "                         classes=classes,\n",
    "                         shuffle=False,\n",
    "                         seed=42)\n",
    "\n",
    "valid = image_dataset_from_directory(directory=valid_path,\n",
    "                         labels='inferred',\n",
    "                         target_size=size,\n",
    "                         color_mode=\"rgb\",\n",
    "                         batch_size=32,\n",
    "                         class_mode=\"categorical\",\n",
    "                         classes=classes,\n",
    "                         shuffle=True,\n",
    "                         seed=42)"
   ]
  }
 ],
 "metadata": {
  "kernelspec": {
   "display_name": "Python 3 (ipykernel)",
   "language": "python",
   "name": "python3"
  },
  "language_info": {
   "codemirror_mode": {
    "name": "ipython",
    "version": 3
   },
   "file_extension": ".py",
   "mimetype": "text/x-python",
   "name": "python",
   "nbconvert_exporter": "python",
   "pygments_lexer": "ipython3",
   "version": "3.9.16"
  }
 },
 "nbformat": 4,
 "nbformat_minor": 5
}
