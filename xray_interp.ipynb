{
 "cells": [
  {
   "cell_type": "code",
   "execution_count": 1,
   "id": "65a9fdc3-11dd-40e1-b59d-e79f0f6f5a81",
   "metadata": {},
   "outputs": [],
   "source": [
    "# Imports\n",
    "\n",
    "# File handling\n",
    "import os\n",
    "import pathlib\n",
    "from zipfile import ZipFile\n",
    "import splitfolders\n",
    "\n",
    "# Visualization\n",
    "import  matplotlib.pyplot as plt\n",
    "import seaborn as sns\n",
    "%matplotlib inline\n",
    "\n",
    "# Data and maths\n",
    "import numpy as np\n",
    "import pandas as pd\n",
    "import random\n",
    "\n",
    "# ML\n",
    "import tensorflow as tf\n",
    "from tensorflow import keras\n",
    "from keras import models, layers\n",
    "from keras.utils import image_dataset_from_directory\n",
    "from keras.preprocessing.image import ImageDataGenerator\n",
    "\n",
    "from sklearn.utils import shuffle\n",
    "from sklearn.model_selection import train_test_split\n",
    "#from keras.callbacks import CSVLogger # if problems with SAVING model\n",
    "\n",
    "# Metrics\n",
    "from sklearn.metrics import accuracy_score, confusion_matrix, classification_report"
   ]
  },
  {
   "cell_type": "code",
   "execution_count": 19,
   "id": "f10fd2ec-89b7-48af-bd75-61758b03052d",
   "metadata": {},
   "outputs": [
    {
     "name": "stderr",
     "output_type": "stream",
     "text": [
      "Copying files: 21165 files [01:16, 277.95 files/s]\n",
      "Copying files: 0 files [42:48, ? files/s]"
     ]
    }
   ],
   "source": [
    "# image data\n",
    "splitfolders.ratio(\"data/images_unf/\", output=\"images\", seed=586, ratio=(.8, .1, .1), group_prefix=None, move=True)"
   ]
  },
  {
   "cell_type": "code",
   "execution_count": 30,
   "id": "86caef0e-4451-48f0-adda-005d8ae1eaf2",
   "metadata": {},
   "outputs": [
    {
     "name": "stdout",
     "output_type": "stream",
     "text": [
      "Found 16930 files belonging to 2 classes.\n",
      "Found 2120 files belonging to 2 classes.\n",
      "Found 2115 files belonging to 2 classes.\n"
     ]
    }
   ],
   "source": [
    "# preprocess train, test and valid sets\n",
    "train_path = 'images/train/'\n",
    "test_path = 'images/test/'\n",
    "valid_path = 'images/val/'\n",
    "size = (256, 256)\n",
    "\n",
    "train = image_dataset_from_directory(directory=train_path,\n",
    "                         labels='inferred',\n",
    "                         color_mode=\"rgb\",\n",
    "                         batch_size=64,\n",
    "                         image_size=size,\n",
    "                         shuffle=True,\n",
    "                         seed=77)\n",
    "\n",
    "test = image_dataset_from_directory(directory=test_path,\n",
    "                         labels='inferred',\n",
    "                         color_mode=\"rgb\",\n",
    "                         batch_size=64,\n",
    "                         image_size=size,\n",
    "                         shuffle=False,\n",
    "                         seed=77)\n",
    "\n",
    "valid = image_dataset_from_directory(directory=valid_path,\n",
    "                         labels='inferred',\n",
    "                         color_mode=\"rgb\",\n",
    "                         batch_size=64,\n",
    "                         image_size=size,\n",
    "                         shuffle=False,\n",
    "                         seed=77)"
   ]
  },
  {
   "cell_type": "markdown",
   "id": "d0cd8edb-442a-4dc8-baa9-8cc59e26004c",
   "metadata": {},
   "source": [
    "model 1: loss: 0.6931 - accuracy: 0.4816 - val_loss: 0.6931 - val_accuracy: 0.4818  \n",
    "\n",
    "model 2: loss: 8.3040 - accuracy: 0.4834 (interrupted)  \n",
    "\n",
    "model 3: loss: 7.7412 - accuracy: 0.5178 - val_loss: 7.7656 - val_accuracy: 0.5182 (interrupted)  \n",
    "\n",
    "model 4: loss: 0.7825 - accuracy: 0.4816 - val_loss: 0.6931 - val_accuracy: 0.4818  \n",
    "\n",
    "model 5: loss: 0.4360 - accuracy: 0.8014 - val_loss: 0.4345 - val_accuracy: 0.8052  \n",
    "\n",
    "model 6: loss: 0.4879 - accuracy: 0.7790 - val_loss: 0.4714 - val_accuracy: 0.7721  \n",
    "\n",
    "model 7: loss: 0.3973 - accuracy: 0.8236 - val_loss: 0.4227 - val_accuracy: 0.8132  \n",
    "\n",
    "model 8: loss: 0.0499 - accuracy: 0.9820 - val_loss: 0.6409 - val_accuracy: 0.8771  \n"
   ]
  },
  {
   "cell_type": "code",
   "execution_count": 3,
   "id": "b11b7997-96d6-4786-8886-ec097336a434",
   "metadata": {
    "collapsed": true,
    "jupyter": {
     "outputs_hidden": true
    },
    "tags": []
   },
   "outputs": [
    {
     "name": "stdout",
     "output_type": "stream",
     "text": [
      "Model: \"sequential\"\n",
      "_________________________________________________________________\n",
      " Layer (type)                Output Shape              Param #   \n",
      "=================================================================\n",
      " rescaling (Rescaling)       (None, 256, 256, 1)       0         \n",
      "                                                                 \n",
      " conv2d (Conv2D)             (None, 254, 254, 16)      160       \n",
      "                                                                 \n",
      " max_pooling2d (MaxPooling2D  (None, 127, 127, 16)     0         \n",
      " )                                                               \n",
      "                                                                 \n",
      " conv2d_1 (Conv2D)           (None, 125, 125, 32)      4640      \n",
      "                                                                 \n",
      " max_pooling2d_1 (MaxPooling  (None, 62, 62, 32)       0         \n",
      " 2D)                                                             \n",
      "                                                                 \n",
      " conv2d_2 (Conv2D)           (None, 60, 60, 64)        18496     \n",
      "                                                                 \n",
      " max_pooling2d_2 (MaxPooling  (None, 30, 30, 64)       0         \n",
      " 2D)                                                             \n",
      "                                                                 \n",
      " flatten (Flatten)           (None, 57600)             0         \n",
      "                                                                 \n",
      " dropout (Dropout)           (None, 57600)             0         \n",
      "                                                                 \n",
      " dense (Dense)               (None, 2)                 115202    \n",
      "                                                                 \n",
      "=================================================================\n",
      "Total params: 138,498\n",
      "Trainable params: 138,498\n",
      "Non-trainable params: 0\n",
      "_________________________________________________________________\n"
     ]
    }
   ],
   "source": [
    "input_shape = (256, 256, 1)\n",
    "num_classes=2\n",
    "\n",
    "model1 = keras.Sequential(\n",
    "    [\n",
    "        layers.Rescaling(1./255, input_shape=input_shape),\n",
    "                         \n",
    "        layers.Conv2D(16, kernel_size=(3,3), activation=\"relu\"), # conv layer\n",
    "        layers.MaxPooling2D(pool_size=(2, 2)),\n",
    "                         \n",
    "        layers.Conv2D(32, kernel_size=(3,3), activation=\"relu\"), # conv layer\n",
    "        layers.MaxPooling2D(pool_size=(2, 2)),\n",
    "        \n",
    "        layers.Conv2D(64, kernel_size=(3,3), activation=\"relu\"), # conv layer\n",
    "        layers.MaxPooling2D(pool_size=(2, 2)),\n",
    "        \n",
    "        layers.Flatten(), # Dimensionality reduction (feature map)\n",
    "        layers.Dropout(0.5), # Output layer\n",
    "        layers.Dense(num_classes) # fully connected layer\n",
    "    ])\n",
    "\n",
    "model1.compile(optimizer='SGD',\n",
    "              loss='sparse_categorical_crossentropy',\n",
    "              metrics=['accuracy'])\n",
    "\n",
    "model1.summary()"
   ]
  },
  {
   "cell_type": "code",
   "execution_count": 28,
   "id": "169e35c3-b0ff-4646-864b-29df0ec21874",
   "metadata": {
    "collapsed": true,
    "jupyter": {
     "outputs_hidden": true
    },
    "tags": []
   },
   "outputs": [
    {
     "name": "stdout",
     "output_type": "stream",
     "text": [
      "Model: \"sequential_6\"\n",
      "_________________________________________________________________\n",
      " Layer (type)                Output Shape              Param #   \n",
      "=================================================================\n",
      " rescaling_10 (Rescaling)    (None, 256, 256, 1)       0         \n",
      "                                                                 \n",
      " conv2d_20 (Conv2D)          (None, 254, 254, 32)      320       \n",
      "                                                                 \n",
      " max_pooling2d_20 (MaxPoolin  (None, 127, 127, 32)     0         \n",
      " g2D)                                                            \n",
      "                                                                 \n",
      " conv2d_21 (Conv2D)          (None, 125, 125, 64)      18496     \n",
      "                                                                 \n",
      " max_pooling2d_21 (MaxPoolin  (None, 62, 62, 64)       0         \n",
      " g2D)                                                            \n",
      "                                                                 \n",
      " flatten_7 (Flatten)         (None, 246016)            0         \n",
      "                                                                 \n",
      " dropout_6 (Dropout)         (None, 246016)            0         \n",
      "                                                                 \n",
      " dense_6 (Dense)             (None, 2)                 492034    \n",
      "                                                                 \n",
      "=================================================================\n",
      "Total params: 510,850\n",
      "Trainable params: 510,850\n",
      "Non-trainable params: 0\n",
      "_________________________________________________________________\n"
     ]
    }
   ],
   "source": [
    "input_shape = (256, 256, 1)\n",
    "num_classes=2\n",
    "\n",
    "model2 = keras.Sequential(\n",
    "    [\n",
    "        layers.Rescaling(1./255, input_shape=input_shape),\n",
    "                         \n",
    "        layers.Conv2D(32, kernel_size=(3,3), activation=\"relu\"), # conv layer\n",
    "        layers.MaxPooling2D(),\n",
    "        \n",
    "        layers.Conv2D(64, kernel_size=(3,3), activation=\"relu\"), # conv layer\n",
    "        layers.MaxPooling2D(),\n",
    "        \n",
    "        layers.Flatten(), # Dimensionality reduction (feature map)\n",
    "        layers.Dropout(0.5), # Output layer\n",
    "        layers.Dense(num_classes) # fully connected layer\n",
    "    ])\n",
    "\n",
    "model2.compile(optimizer='SGD',\n",
    "              loss='sparse_categorical_crossentropy',\n",
    "              metrics=['accuracy'])\n",
    "\n",
    "model2.summary()"
   ]
  },
  {
   "cell_type": "code",
   "execution_count": 39,
   "id": "5e3fe43d-e107-4352-b493-1d27b879f03e",
   "metadata": {
    "collapsed": true,
    "jupyter": {
     "outputs_hidden": true
    },
    "tags": []
   },
   "outputs": [
    {
     "name": "stdout",
     "output_type": "stream",
     "text": [
      "Model: \"sequential_10\"\n",
      "_________________________________________________________________\n",
      " Layer (type)                Output Shape              Param #   \n",
      "=================================================================\n",
      " rescaling_14 (Rescaling)    (None, 256, 256, 1)       0         \n",
      "                                                                 \n",
      " conv2d_28 (Conv2D)          (None, 254, 254, 32)      320       \n",
      "                                                                 \n",
      " max_pooling2d_28 (MaxPoolin  (None, 127, 127, 32)     0         \n",
      " g2D)                                                            \n",
      "                                                                 \n",
      " conv2d_29 (Conv2D)          (None, 125, 125, 64)      18496     \n",
      "                                                                 \n",
      " max_pooling2d_29 (MaxPoolin  (None, 62, 62, 64)       0         \n",
      " g2D)                                                            \n",
      "                                                                 \n",
      " flatten_11 (Flatten)        (None, 246016)            0         \n",
      "                                                                 \n",
      " dropout_10 (Dropout)        (None, 246016)            0         \n",
      "                                                                 \n",
      " dense_10 (Dense)            (None, 2)                 492034    \n",
      "                                                                 \n",
      "=================================================================\n",
      "Total params: 510,850\n",
      "Trainable params: 510,850\n",
      "Non-trainable params: 0\n",
      "_________________________________________________________________\n"
     ]
    }
   ],
   "source": [
    "input_shape = (256, 256, 1)\n",
    "num_classes=2\n",
    "\n",
    "model3 = keras.Sequential(\n",
    "    [\n",
    "        layers.Rescaling(1./255, input_shape=input_shape),\n",
    "                         \n",
    "        layers.Conv2D(32, kernel_size=(3,3), activation=\"relu\"), # conv layer\n",
    "        layers.MaxPooling2D(),\n",
    "        \n",
    "        layers.Conv2D(64, kernel_size=(3,3), activation=\"relu\"), # conv layer\n",
    "        layers.MaxPooling2D(),\n",
    "        \n",
    "        layers.Flatten(), # Dimensionality reduction (feature map)\n",
    "        layers.Dropout(0.5), # Output layer\n",
    "        layers.Dense(num_classes) # fully connected layer\n",
    "    ])\n",
    "\n",
    "model3.compile(optimizer='SGD',\n",
    "              loss='sparse_categorical_crossentropy',\n",
    "              metrics=['accuracy'])\n",
    "\n",
    "model3.summary()"
   ]
  },
  {
   "cell_type": "code",
   "execution_count": 43,
   "id": "ab3f118e-c7c4-4480-b1fa-e17f702cf148",
   "metadata": {
    "collapsed": true,
    "jupyter": {
     "outputs_hidden": true
    },
    "tags": []
   },
   "outputs": [
    {
     "name": "stdout",
     "output_type": "stream",
     "text": [
      "Model: \"sequential_12\"\n",
      "_________________________________________________________________\n",
      " Layer (type)                Output Shape              Param #   \n",
      "=================================================================\n",
      " rescaling_16 (Rescaling)    (None, 256, 256, 1)       0         \n",
      "                                                                 \n",
      " conv2d_32 (Conv2D)          (None, 254, 254, 32)      320       \n",
      "                                                                 \n",
      " max_pooling2d_32 (MaxPoolin  (None, 127, 127, 32)     0         \n",
      " g2D)                                                            \n",
      "                                                                 \n",
      " conv2d_33 (Conv2D)          (None, 125, 125, 64)      18496     \n",
      "                                                                 \n",
      " max_pooling2d_33 (MaxPoolin  (None, 62, 62, 64)       0         \n",
      " g2D)                                                            \n",
      "                                                                 \n",
      " conv2d_34 (Conv2D)          (None, 60, 60, 128)       73856     \n",
      "                                                                 \n",
      " max_pooling2d_34 (MaxPoolin  (None, 30, 30, 128)      0         \n",
      " g2D)                                                            \n",
      "                                                                 \n",
      " flatten_13 (Flatten)        (None, 115200)            0         \n",
      "                                                                 \n",
      " dropout_12 (Dropout)        (None, 115200)            0         \n",
      "                                                                 \n",
      " dense_12 (Dense)            (None, 2)                 230402    \n",
      "                                                                 \n",
      "=================================================================\n",
      "Total params: 323,074\n",
      "Trainable params: 323,074\n",
      "Non-trainable params: 0\n",
      "_________________________________________________________________\n"
     ]
    }
   ],
   "source": [
    "input_shape = (256, 256, 1)\n",
    "num_classes=2\n",
    "\n",
    "model4 = keras.Sequential(\n",
    "    [\n",
    "        layers.Rescaling(1./255, input_shape=input_shape),\n",
    "                         \n",
    "        layers.Conv2D(32, kernel_size=(3,3), activation=\"relu\"), # conv layer\n",
    "        layers.MaxPooling2D(),\n",
    "        \n",
    "        layers.Conv2D(64, kernel_size=(3,3), activation=\"relu\"), # conv layer\n",
    "        layers.MaxPooling2D(),\n",
    "        \n",
    "        layers.Conv2D(128, kernel_size=(3,3), activation=\"relu\"), # conv layer\n",
    "        layers.MaxPooling2D(),\n",
    "        \n",
    "        layers.Flatten(), # Dimensionality reduction (feature map)\n",
    "        layers.Dropout(0.5), # Output layer\n",
    "        layers.Dense(num_classes) # fully connected layer\n",
    "    ])\n",
    "\n",
    "model4.compile(optimizer='adam',\n",
    "              loss='sparse_categorical_crossentropy',\n",
    "              metrics=['accuracy'])\n",
    "\n",
    "model4.summary()"
   ]
  },
  {
   "cell_type": "code",
   "execution_count": 56,
   "id": "39a4fd8b-2583-4638-bbce-b5850cacc680",
   "metadata": {
    "collapsed": true,
    "jupyter": {
     "outputs_hidden": true
    },
    "tags": []
   },
   "outputs": [
    {
     "name": "stdout",
     "output_type": "stream",
     "text": [
      "Model: \"sequential_15\"\n",
      "_________________________________________________________________\n",
      " Layer (type)                Output Shape              Param #   \n",
      "=================================================================\n",
      " rescaling_13 (Rescaling)    (None, 256, 256, 3)       0         \n",
      "                                                                 \n",
      " flatten_13 (Flatten)        (None, 196608)            0         \n",
      "                                                                 \n",
      " dense_45 (Dense)            (None, 300)               58982700  \n",
      "                                                                 \n",
      " flatten_14 (Flatten)        (None, 300)               0         \n",
      "                                                                 \n",
      " dense_46 (Dense)            (None, 100)               30100     \n",
      "                                                                 \n",
      " flatten_15 (Flatten)        (None, 100)               0         \n",
      "                                                                 \n",
      " dense_47 (Dense)            (None, 2)                 202       \n",
      "                                                                 \n",
      "=================================================================\n",
      "Total params: 59,013,002\n",
      "Trainable params: 59,013,002\n",
      "Non-trainable params: 0\n",
      "_________________________________________________________________\n"
     ]
    }
   ],
   "source": [
    "shape = (256, 256, 3)\n",
    "num_classes=2\n",
    "\n",
    "model5 = keras.Sequential(\n",
    "    [\n",
    "        layers.Rescaling(1./255, input_shape=shape), # input\n",
    "        layers.Flatten(),\n",
    "        \n",
    "        layers.Dense(300, activation=\"relu\"), # layer\n",
    "        layers.Flatten(),\n",
    "        \n",
    "        layers.Dense(100, activation=\"relu\"), # layer\n",
    "        layers.Flatten(),\n",
    "        \n",
    "        layers.Dense(num_classes, activation=\"sigmoid\") # output\n",
    "    ])\n",
    "\n",
    "model5.compile(optimizer='SGD',\n",
    "              loss='sparse_categorical_crossentropy',\n",
    "              metrics=['accuracy'])\n",
    "\n",
    "model5.summary()"
   ]
  },
  {
   "cell_type": "code",
   "execution_count": 60,
   "id": "b3b5b65b-9bd8-4b6e-8557-0e6fc3125403",
   "metadata": {
    "collapsed": true,
    "jupyter": {
     "outputs_hidden": true
    },
    "tags": []
   },
   "outputs": [
    {
     "name": "stdout",
     "output_type": "stream",
     "text": [
      "Model: \"sequential_16\"\n",
      "_________________________________________________________________\n",
      " Layer (type)                Output Shape              Param #   \n",
      "=================================================================\n",
      " rescaling_14 (Rescaling)    (None, 256, 256, 3)       0         \n",
      "                                                                 \n",
      " flatten_16 (Flatten)        (None, 196608)            0         \n",
      "                                                                 \n",
      " dense_48 (Dense)            (None, 300)               58982700  \n",
      "                                                                 \n",
      " flatten_17 (Flatten)        (None, 300)               0         \n",
      "                                                                 \n",
      " dense_49 (Dense)            (None, 100)               30100     \n",
      "                                                                 \n",
      " flatten_18 (Flatten)        (None, 100)               0         \n",
      "                                                                 \n",
      " dense_50 (Dense)            (None, 2)                 202       \n",
      "                                                                 \n",
      "=================================================================\n",
      "Total params: 59,013,002\n",
      "Trainable params: 59,013,002\n",
      "Non-trainable params: 0\n",
      "_________________________________________________________________\n"
     ]
    }
   ],
   "source": [
    "shape = (256, 256, 3)\n",
    "num_classes=2\n",
    "\n",
    "model6 = keras.Sequential(\n",
    "    [\n",
    "        layers.Rescaling(1./255, input_shape=shape), # input\n",
    "        layers.Flatten(),\n",
    "        \n",
    "        layers.Dense(300, activation=\"relu\"), # layer\n",
    "        layers.Flatten(),\n",
    "        \n",
    "        layers.Dense(100, activation=\"relu\"), # layer\n",
    "        layers.Flatten(),\n",
    "        \n",
    "        layers.Dense(num_classes, activation=\"softmax\") # output\n",
    "    ])\n",
    "\n",
    "model6.compile(optimizer='adam',\n",
    "              loss='sparse_categorical_crossentropy',\n",
    "              metrics=['accuracy'])\n",
    "\n",
    "model6.summary()"
   ]
  },
  {
   "cell_type": "code",
   "execution_count": null,
   "id": "b1432589-c520-4473-adc4-3cf656de09b7",
   "metadata": {},
   "outputs": [],
   "source": [
    "shape = (256, 256, 3)\n",
    "num_classes=2\n",
    "\n",
    "model7 = keras.Sequential(\n",
    "    [   \n",
    "        layers.Rescaling(1./255, input_shape=shape), # input\n",
    "        layers.Flatten(),\n",
    "        \n",
    "        layers.Dense(200, activation=\"relu\"), # layer\n",
    "        layers.Flatten(),\n",
    "        \n",
    "        layers.Dense(100, activation=\"relu\"), # layer\n",
    "        layers.Flatten(),\n",
    "\n",
    "        layers.Dense(100, activation=\"relu\"), # layer\n",
    "        layers.Flatten(),\n",
    "        \n",
    "        layers.Dense(num_classes, activation=\"softmax\") # output\n",
    "    ])\n",
    "\n",
    "model7.compile(optimizer='adam',\n",
    "              loss='sparse_categorical_crossentropy',\n",
    "              metrics=['accuracy'])"
   ]
  },
  {
   "cell_type": "code",
   "execution_count": null,
   "id": "22e4667b-88c0-4ae4-9795-57d04cff9a47",
   "metadata": {},
   "outputs": [],
   "source": [
    "shape = (256, 256, 3)\n",
    "num_classes=2\n",
    "\n",
    "model8 = keras.Sequential(\n",
    "    [   \n",
    "        layers.Rescaling(1./255, input_shape=shape), # input\n",
    "        layers.MaxPooling2D(2),\n",
    "     \n",
    "        layers.Conv2D(200, kernel_size=(3, 3), activation=\"relu\"), # layer\n",
    "        layers.MaxPooling2D(2),\n",
    "        \n",
    "        layers.Conv2D(150, kernel_size=(3, 3), activation=\"relu\"), # layer\n",
    "        layers.MaxPooling2D(2),\n",
    "\n",
    "        layers.Conv2D(50, kernel_size=(3, 3), activation=\"relu\"), # layer\n",
    "        layers.MaxPooling2D(2),\n",
    "        layers.Flatten(),\n",
    "        \n",
    "        layers.Dense(num_classes, activation=\"softmax\") # output\n",
    "    ])\n",
    "\n",
    "model8.compile(optimizer='adam',\n",
    "              loss='sparse_categorical_crossentropy',\n",
    "              metrics=['accuracy'])"
   ]
  }
 ],
 "metadata": {
  "kernelspec": {
   "display_name": "Python 3 (ipykernel)",
   "language": "python",
   "name": "python3"
  },
  "language_info": {
   "codemirror_mode": {
    "name": "ipython",
    "version": 3
   },
   "file_extension": ".py",
   "mimetype": "text/x-python",
   "name": "python",
   "nbconvert_exporter": "python",
   "pygments_lexer": "ipython3",
   "version": "3.9.16"
  }
 },
 "nbformat": 4,
 "nbformat_minor": 5
}
