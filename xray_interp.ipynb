{
 "cells": [
  {
   "cell_type": "code",
   "execution_count": 120,
   "id": "65a9fdc3-11dd-40e1-b59d-e79f0f6f5a81",
   "metadata": {},
   "outputs": [],
   "source": [
    "# Imports\n",
    "\n",
    "# File handling\n",
    "import os\n",
    "import cv2\n",
    "import splitfolders\n",
    "\n",
    "# Visualization\n",
    "import pandas as pd\n",
    "import matplotlib.pyplot as plt\n",
    "import seaborn as sns\n",
    "%matplotlib inline\n",
    "\n",
    "# NumPy\n",
    "import numpy as np\n",
    "\n",
    "# ML\n",
    "import tensorflow as tf\n",
    "from tensorflow import keras\n",
    "from tensorflow.keras.optimizers import Adam\n",
    "\n",
    "from keras import models, layers\n",
    "import keras_tuner as kt\n",
    "from keras.callbacks import CSVLogger\n",
    "from keras.utils import image_dataset_from_directory\n",
    "from keras.regularizers import l2\n",
    "\n",
    "from sklearn.utils import shuffle\n",
    "from sklearn.linear_model import LogisticRegression\n",
    "from sklearn.neighbors import KNeighborsClassifier\n",
    "\n",
    "# Metrics\n",
    "from sklearn.metrics import accuracy_score , confusion_matrix, classification_report\n",
    "from imblearn.metrics import sensitivity_score"
   ]
  },
  {
   "cell_type": "markdown",
   "id": "c0e013cc-e2c3-43e4-a8b7-1b00f3ffb76b",
   "metadata": {
    "tags": []
   },
   "source": [
    "## Utility functions"
   ]
  },
  {
   "cell_type": "code",
   "execution_count": 87,
   "id": "34d27a77-2e91-492e-bea9-0790a0aacc0c",
   "metadata": {
    "jupyter": {
     "source_hidden": true
    },
    "tags": []
   },
   "outputs": [],
   "source": [
    "def load_model(file=\"model.h5\", hist=\"training.log\"):\n",
    "    \n",
    "    # load model and history\n",
    "    \n",
    "    import tensorflow as tf\n",
    "    import pandas as pd\n",
    "    import numpy as np\n",
    "    model = tf.keras.models.load_model(file)\n",
    "    history = pd.read_csv(hist)[['loss','binary_accuracy', 'val_loss', 'val_binary_accuracy']]\n",
    "    return model, history\n",
    "\n",
    "def get_data(train_path='images/train/', test_path='images/test/', valid_path='images/val/'):\n",
    "    \n",
    "    # preprocess train, test and valid sets\n",
    "    \n",
    "    from keras.utils import image_dataset_from_directory\n",
    "    train = image_dataset_from_directory(directory=train_path,\n",
    "                             label_mode='binary',\n",
    "                             color_mode=\"rgb\",\n",
    "                             image_size=(256, 256),\n",
    "                             shuffle=True,\n",
    "                             seed=77)\n",
    "    test = image_dataset_from_directory(directory=test_path,\n",
    "                             color_mode=\"rgb\",\n",
    "                             label_mode='binary',\n",
    "                             image_size=(256, 256))\n",
    "    valid = image_dataset_from_directory(directory=valid_path,\n",
    "                             color_mode=\"rgb\",\n",
    "                             label_mode='binary',\n",
    "                             image_size=(256, 256))\n",
    "    return train, test, valid\n",
    "\n",
    "def evaluate_model(model, valid, test):\n",
    "    \n",
    "    pd.read_csv('training.log')[['binary_accuracy','loss','val_binary_accuracy','val_loss']].plot(figsize=(15,5))\n",
    "    plt.grid(True)\n",
    "    plt.gca().set_ylim(0, 1)\n",
    "    plt.title('Model Learning Curves')\n",
    "    plt.show()\n",
    "    print()\n",
    "    print()\n",
    "    print()\n",
    "    print('Test set score')\n",
    "    print()\n",
    "    model.evaluate(test)\n",
    "    print()\n",
    "    print()\n",
    "    print()\n",
    "    print('Validation set score')\n",
    "    print()\n",
    "    model.evaluate(valid)\n",
    "\n",
    "def dim_info(dimension):\n",
    "    print(\"Dimension type: \", type(dimension))\n",
    "    print(\"Dimension length: \", len(dimension))\n",
    "\n",
    "def images_to_arrays_X_y(folder_path):\n",
    "    X = []\n",
    "    y = []\n",
    "    for class_folder in os.listdir(folder_path):\n",
    "        class_path = os.path.join(folder_path, class_folder)\n",
    "        if not os.path.isdir(class_path):\n",
    "            continue\n",
    "        class_label = class_folder  # assign class folder name as label\n",
    "        for filename in os.listdir(class_path):\n",
    "            img_path = os.path.join(class_path, filename)\n",
    "            img = cv2.imread(img_path)\n",
    "            if img is not None:\n",
    "                img = cv2.resize(img, (256, 256))  # resize\n",
    "                img_array = np.array(img, dtype=np.float32)  # convert array values to float\n",
    "                X.append(img_array)\n",
    "                y.append(class_label)\n",
    "    return np.array(X), np.array(y)\n",
    "\n",
    "def images_to_arrays(folder_path):\n",
    "    data = []\n",
    "    for class_folder in os.listdir(folder_path):\n",
    "        class_path = os.path.join(folder_path, class_folder)\n",
    "        if not os.path.isdir(class_path):\n",
    "            continue\n",
    "        class_label = class_folder  # assign class folder name as label\n",
    "        for filename in os.listdir(class_path):\n",
    "            img_path = os.path.join(class_path, filename)\n",
    "            img = cv2.imread(img_path)\n",
    "            if img is not None:\n",
    "                img = cv2.resize(img, (256, 256))  # resize\n",
    "                img_array = np.array(img, dtype=np.float32)  # convert array values to float\n",
    "                data.append([img_array,class_label])\n",
    "    return data"
   ]
  },
  {
   "cell_type": "code",
   "execution_count": 88,
   "id": "e362797c-737d-4447-a607-162a5bccedb1",
   "metadata": {},
   "outputs": [],
   "source": [
    "# load model and history\n",
    "model, history = load_model(\"model.h5\")"
   ]
  },
  {
   "cell_type": "code",
   "execution_count": null,
   "id": "42aca036-5240-4fa1-afe4-b569af904896",
   "metadata": {},
   "outputs": [],
   "source": [
    "# data\n",
    "train, test, valid = get_data()"
   ]
  },
  {
   "cell_type": "markdown",
   "id": "9472ac46-b270-4dc6-a402-ff0a1ffe6555",
   "metadata": {
    "tags": []
   },
   "source": [
    "## Model"
   ]
  },
  {
   "cell_type": "code",
   "execution_count": 7,
   "id": "f960744a-427e-42f6-a6d8-3f8ed369cc87",
   "metadata": {},
   "outputs": [],
   "source": [
    "# cnn model\n",
    "shape = (256, 256, 3)\n",
    "drop = 0.5\n",
    "kernel = 2\n",
    "pool = 2\n",
    "regularizer=l2(0.01)\n",
    "learning_rate=0.0017\n",
    "\n",
    "model = keras.Sequential(\n",
    "    [   \n",
    "        layers.Rescaling(1./255, input_shape=shape), # input\n",
    "        layers.MaxPooling2D(pool_size=pool),\n",
    "     \n",
    "        layers.Conv2D(64, kernel_size=kernel, kernel_regularizer=regularizer, activation=\"relu\"), # layer 1\n",
    "        layers.MaxPooling2D(pool_size=pool),\n",
    "        \n",
    "        layers.Conv2D(64, kernel_size=kernel, kernel_regularizer=regularizer, activation=\"relu\"), # layer 2\n",
    "        layers.MaxPooling2D(pool_size=pool),\n",
    "\n",
    "     \n",
    "        layers.Flatten(),\n",
    "        layers.Dropout(drop),     \n",
    "        layers.Dense(1, activation=\"sigmoid\") # output\n",
    "    ])"
   ]
  },
  {
   "cell_type": "code",
   "execution_count": 8,
   "id": "21f4114b-225f-4153-9501-5e5433d5a31a",
   "metadata": {
    "tags": []
   },
   "outputs": [],
   "source": [
    "model.compile(optimizer=Adam(learning_rate=learning_rate),\n",
    "              loss='binary_crossentropy',\n",
    "              metrics=['binary_accuracy'])"
   ]
  },
  {
   "cell_type": "code",
   "execution_count": 9,
   "id": "fa0fa317-87ac-4cc5-a239-8327aedd07c4",
   "metadata": {
    "tags": []
   },
   "outputs": [
    {
     "name": "stdout",
     "output_type": "stream",
     "text": [
      "Model: \"sequential\"\n",
      "_________________________________________________________________\n",
      " Layer (type)                Output Shape              Param #   \n",
      "=================================================================\n",
      " rescaling (Rescaling)       (None, 256, 256, 3)       0         \n",
      "                                                                 \n",
      " max_pooling2d (MaxPooling2D  (None, 128, 128, 3)      0         \n",
      " )                                                               \n",
      "                                                                 \n",
      " conv2d (Conv2D)             (None, 127, 127, 64)      832       \n",
      "                                                                 \n",
      " max_pooling2d_1 (MaxPooling  (None, 63, 63, 64)       0         \n",
      " 2D)                                                             \n",
      "                                                                 \n",
      " conv2d_1 (Conv2D)           (None, 62, 62, 64)        16448     \n",
      "                                                                 \n",
      " max_pooling2d_2 (MaxPooling  (None, 31, 31, 64)       0         \n",
      " 2D)                                                             \n",
      "                                                                 \n",
      " flatten (Flatten)           (None, 61504)             0         \n",
      "                                                                 \n",
      " dropout (Dropout)           (None, 61504)             0         \n",
      "                                                                 \n",
      " dense (Dense)               (None, 1)                 61505     \n",
      "                                                                 \n",
      "=================================================================\n",
      "Total params: 78,785\n",
      "Trainable params: 78,785\n",
      "Non-trainable params: 0\n",
      "_________________________________________________________________\n"
     ]
    }
   ],
   "source": [
    "model.summary()"
   ]
  },
  {
   "cell_type": "code",
   "execution_count": 11,
   "id": "cb8f989d-cee9-47af-a69c-2b25fc041d74",
   "metadata": {
    "tags": []
   },
   "outputs": [],
   "source": [
    "csv_logger = CSVLogger('training.log')\n",
    "early_stopping_cb = keras.callbacks.EarlyStopping(patience=4, restore_best_weights=True)\n",
    "cp_callback = tf.keras.callbacks.ModelCheckpoint(filepath=\"training_1/cp.ckpt\",\n",
    "                                                 save_weights_only=True,\n",
    "                                                 verbose=1)\n",
    "model.fit(train, validation_data=valid, verbose=1, epochs=50, shuffle=True, callbacks=[csv_logger, early_stopping_cb, cp_callback])"
   ]
  },
  {
   "cell_type": "code",
   "execution_count": 31,
   "id": "add22ee3-5b03-425d-ad3b-460d24d3fd29",
   "metadata": {},
   "outputs": [
    {
     "data": {
      "image/png": "[encoded data removed]",
      "text/plain": [
       "<Figure size 1500x500 with 1 Axes>"
      ]
     },
     "metadata": {},
     "output_type": "display_data"
    },
    {
     "name": "stdout",
     "output_type": "stream",
     "text": [
      "\n",
      "\n",
      "\n",
      "Test set score\n",
      "\n",
      "67/67 [==============================] - 5s 71ms/step - loss: 0.3563 - binary_accuracy: 0.8637\n",
      "\n",
      "\n",
      "\n",
      "Validation set score\n",
      "\n",
      "67/67 [==============================] - 5s 70ms/step - loss: 0.3643 - binary_accuracy: 0.8553\n"
     ]
    }
   ],
   "source": [
    "evaluate_model(model)"
   ]
  },
  {
   "cell_type": "code",
   "execution_count": 109,
   "id": "832d147f-4de8-462f-b89d-3dd8de468baf",
   "metadata": {
    "tags": []
   },
   "outputs": [
    {
     "name": "stdout",
     "output_type": "stream",
     "text": [
      "67/67 [==============================] - 4s 60ms/step\n"
     ]
    }
   ],
   "source": [
    "X_test, y_test = images_to_arrays_X_y(\"images\\\\test\")\n",
    "y_test[y_test == 'healthy'] = 0\n",
    "y_test[y_test == 'sick'] = 1\n",
    "y_test = y_test.astype('float32')\n",
    "pred = model.predict(X_test).round()"
   ]
  },
  {
   "cell_type": "code",
   "execution_count": 127,
   "id": "2f3c6b37-3546-4dcf-b22f-5699b98aa08c",
   "metadata": {
    "tags": []
   },
   "outputs": [
    {
     "name": "stdout",
     "output_type": "stream",
     "text": [
      "Sensitivity score:  0.8481818181818181\n"
     ]
    }
   ],
   "source": [
    "print(\"Sensitivity score: \", sensitivity_score(y_test, pred))"
   ]
  },
  {
   "cell_type": "code",
   "execution_count": 110,
   "id": "0f96f48a-05b3-41fb-80f6-30836f88be4f",
   "metadata": {},
   "outputs": [
    {
     "name": "stdout",
     "output_type": "stream",
     "text": [
      "              precision    recall  f1-score   support\n",
      "\n",
      "         0.0       0.84      0.88      0.86      1020\n",
      "         1.0       0.88      0.85      0.87      1100\n",
      "\n",
      "    accuracy                           0.86      2120\n",
      "   macro avg       0.86      0.86      0.86      2120\n",
      "weighted avg       0.86      0.86      0.86      2120\n",
      "\n"
     ]
    }
   ],
   "source": [
    "print(classification_report(y_test, pred))"
   ]
  },
  {
   "cell_type": "markdown",
   "id": "3814bf9b-5dc3-441f-adcd-c48f4e6d6625",
   "metadata": {},
   "source": [
    "## Sensitivity analysis"
   ]
  },
  {
   "cell_type": "code",
   "execution_count": 39,
   "id": "64a1bd64-0596-4bbe-a43d-483eadf34cd3",
   "metadata": {},
   "outputs": [
    {
     "name": "stdout",
     "output_type": "stream",
     "text": [
      "1/1 [==============================] - 0s 52ms/step\n"
     ]
    }
   ],
   "source": [
    "# covolutional layers and dropout layer\n",
    "important_layers = [model.layers[2], model.layers[4], model.layers[7]]\n",
    "layer_outputs_model = tf.keras.Model(inputs=model.input, outputs=[layer.output for layer in important_layers])\n",
    "sample_input = X_test\n",
    "layer_outputs = layer_outputs_model.predict(sample_input)"
   ]
  },
  {
   "cell_type": "code",
   "execution_count": 40,
   "id": "3a6003d4-11c5-40f0-b3ed-9b79cdb9d265",
   "metadata": {
    "tags": []
   },
   "outputs": [],
   "source": [
    "# conv2d layer 1 output before adding change\n",
    "layer1_before = sum(sum(sum(sum(abs(layer_outputs[0])))))\n",
    "\n",
    "# conv2d layer 2 output before adding change\n",
    "layer2_before = sum(sum(sum(sum(abs(layer_outputs[1])))))\n",
    "\n",
    "# dropout layer output before adding change\n",
    "layer3_before = sum(sum(abs(layer_outputs[2])))"
   ]
  },
  {
   "cell_type": "code",
   "execution_count": 46,
   "id": "2526e7a5-572f-4d34-9948-58f44a0fdeb1",
   "metadata": {},
   "outputs": [],
   "source": [
    "# perturbation magnitude\n",
    "perturbation = 0.01\n",
    "\n",
    "# perturbation analysis for each layer\n",
    "for i, layer_output in enumerate(layer_outputs):\n",
    "    \n",
    "    # create a copy of the layer output for perturbation\n",
    "    perturbed_output = layer_output.copy()\n",
    "\n",
    "    # perturb the layer output by adding noise\n",
    "    noise = np.random.normal(loc=0, scale=perturbation, size=layer_output.shape)\n",
    "    perturbed_output += noise\n",
    "\n",
    "    # replace the layer output with the perturbed output\n",
    "    layer_outputs[i] = perturbed_output"
   ]
  },
  {
   "cell_type": "code",
   "execution_count": 48,
   "id": "17da711a-3b0f-4990-beec-2e74164d99fb",
   "metadata": {},
   "outputs": [],
   "source": [
    "# conv2d layer 1 output after adding change\n",
    "layer1_after = sum(sum(sum(sum(abs(layer_outputs[0])))))\n",
    "\n",
    "# conv2d layer 2 output after adding change\n",
    "layer2_after = sum(sum(sum(sum(abs(layer_outputs[1])))))\n",
    "\n",
    "# dropout layer output after adding change\n",
    "layer3_after = sum(sum(abs(layer_outputs[2])))"
   ]
  },
  {
   "cell_type": "code",
   "execution_count": 62,
   "id": "d98a81d2-e75f-49ff-b1ee-d3f580d47fa6",
   "metadata": {},
   "outputs": [],
   "source": [
    "# differences between before/after perturbation output values\n",
    "layer1_difference = abs((layer1_after - layer1_before)) /layer1_before\n",
    "layer2_difference = abs((layer2_after - layer2_before)) /layer2_before\n",
    "layer3_difference = abs((layer3_after - layer3_before)) /layer3_before"
   ]
  },
  {
   "cell_type": "code",
   "execution_count": 97,
   "id": "36ff93c4-603e-47c8-98a9-b5beb080534e",
   "metadata": {
    "tags": []
   },
   "outputs": [
    {
     "data": {
      "text/html": [
       "<div>\n",
       "<style scoped>\n",
       "    .dataframe tbody tr th:only-of-type {\n",
       "        vertical-align: middle;\n",
       "    }\n",
       "\n",
       "    .dataframe tbody tr th {\n",
       "        vertical-align: top;\n",
       "    }\n",
       "\n",
       "    .dataframe thead th {\n",
       "        text-align: right;\n",
       "    }\n",
       "</style>\n",
       "<table border=\"1\" class=\"dataframe\">\n",
       "  <thead>\n",
       "    <tr style=\"text-align: right;\">\n",
       "      <th></th>\n",
       "      <th>layer</th>\n",
       "      <th>before_output</th>\n",
       "      <th>after_output</th>\n",
       "      <th>percentage_difference</th>\n",
       "    </tr>\n",
       "  </thead>\n",
       "  <tbody>\n",
       "    <tr>\n",
       "      <th>0</th>\n",
       "      <td>conv2d</td>\n",
       "      <td>9180.2626</td>\n",
       "      <td>17088.043938</td>\n",
       "      <td>0.861389</td>\n",
       "    </tr>\n",
       "    <tr>\n",
       "      <th>1</th>\n",
       "      <td>conv2d_1</td>\n",
       "      <td>984.09481</td>\n",
       "      <td>2778.430855</td>\n",
       "      <td>1.823337</td>\n",
       "    </tr>\n",
       "    <tr>\n",
       "      <th>2</th>\n",
       "      <td>dropout</td>\n",
       "      <td>317.976129</td>\n",
       "      <td>754.820912</td>\n",
       "      <td>1.373829</td>\n",
       "    </tr>\n",
       "  </tbody>\n",
       "</table>\n",
       "</div>"
      ],
      "text/plain": [
       "      layer before_output  after_output percentage_difference\n",
       "0    conv2d     9180.2626  17088.043938              0.861389\n",
       "1  conv2d_1     984.09481   2778.430855              1.823337\n",
       "2   dropout    317.976129    754.820912              1.373829"
      ]
     },
     "execution_count": 97,
     "metadata": {},
     "output_type": "execute_result"
    }
   ],
   "source": [
    "before_output = pd.Series([layer1_before, layer2_before, layer3_before])\n",
    "after_output = pd.Series([layer1_after, layer2_after, layer3_after])\n",
    "percentage_difference = pd.Series([layer1_difference, layer2_difference, layer3_difference])\n",
    "layer = pd.Series(['conv2d','conv2d_1','dropout'])\n",
    "\n",
    "cnn_sensitivity_analysis = pd.DataFrame(data = [layer, before_output, after_output, percentage_difference]).transpose()\n",
    "cnn_sensitivity_analysis.columns = ['layer','before_output','after_output','percentage_difference']\n",
    "cnn_sensitivity_analysis"
   ]
  },
  {
   "cell_type": "code",
   "execution_count": 117,
   "id": "de894a75-bedd-4d67-b493-0dcb1ff8e54e",
   "metadata": {},
   "outputs": [
    {
     "data": {
      "image/png": "[encoded data removed]",
      "text/plain": [
       "<Figure size 1000x400 with 1 Axes>"
      ]
     },
     "metadata": {},
     "output_type": "display_data"
    }
   ],
   "source": [
    "X_axis = np.arange(len(layer))\n",
    "plt.figure(figsize=(10,4))\n",
    "plt.bar(X_axis - 0.2, before_output, label=\"Output Before Perturbation\")\n",
    "plt.bar(X_axis + 0.2, after_output, label=\"Output After Perturbation\")\n",
    "\n",
    "plt.xticks(X_axis, layer)\n",
    "plt.xlabel(\"Layers\")\n",
    "plt.ylabel(\"Output Value\")\n",
    "plt.title(\"Change in Output Values per Layer\")\n",
    "plt.legend()\n",
    "plt.show()"
   ]
  },
  {
   "cell_type": "markdown",
   "id": "d21cb4f7-32af-4984-ac84-6ca49b12f331",
   "metadata": {
    "tags": []
   },
   "source": [
    "## Other classification Models"
   ]
  },
  {
   "cell_type": "code",
   "execution_count": 123,
   "id": "bd4a0aff-bff2-4fd6-9003-45b96cd6bdb2",
   "metadata": {},
   "outputs": [],
   "source": [
    "# data preprocessing\n",
    "X_train, y_train = images_to_arrays_X_y(\"images\\\\train\")\n",
    "y_train[y_train == 'healthy'] = 0\n",
    "y_train[y_train == 'sick'] = 1\n",
    "y_train = y_train.astype('float32')\n",
    "\n",
    "X_test, y_test = images_to_arrays_X_y(\"images\\\\test\")\n",
    "y_test[y_test == 'healthy'] = 0\n",
    "y_test[y_test == 'sick'] = 1\n",
    "y_test = y_test.astype('float32')\n",
    "\n",
    "# input\n",
    "X_train_flat = X_train.reshape(X_train.shape[0], -1)\n",
    "X_test_flat = X_test.reshape(X_test.shape[0], -1)"
   ]
  },
  {
   "cell_type": "code",
   "execution_count": 124,
   "id": "ae98f4ea-34b0-445f-b26a-7c51c6c30d32",
   "metadata": {
    "tags": []
   },
   "outputs": [],
   "source": [
    "# logistic regression classifier\n",
    "logreg = LogisticRegression(max_iter=50)\n",
    "logreg.fit(X_train_flat, y_train)\n",
    "y_pred_logreg = logreg.predict(X_test_flat)"
   ]
  },
  {
   "cell_type": "code",
   "execution_count": 125,
   "id": "43b81997-2631-411d-9208-3e46591cb510",
   "metadata": {},
   "outputs": [
    {
     "name": "stdout",
     "output_type": "stream",
     "text": [
      "Logistic Regression Classifier accuracy:  0.8160377358490566\n",
      "Sensitivity score:  0.8245454545454546\n"
     ]
    }
   ],
   "source": [
    "print(\"Logistic Regression Classifier accuracy: \", logreg.score(X_test_flat, y_test))\n",
    "print(\"Sensitivity score: \", sensitivity_score(y_test, y_pred_logreg))"
   ]
  },
  {
   "cell_type": "code",
   "execution_count": 43,
   "id": "b5198363-d8ea-471c-aed3-96b1165fd905",
   "metadata": {
    "tags": []
   },
   "outputs": [
    {
     "name": "stdout",
     "output_type": "stream",
     "text": [
      "              precision    recall  f1-score   support\n",
      "\n",
      "         0.0       0.81      0.81      0.81      1020\n",
      "         1.0       0.82      0.82      0.82      1100\n",
      "\n",
      "    accuracy                           0.82      2120\n",
      "   macro avg       0.82      0.82      0.82      2120\n",
      "weighted avg       0.82      0.82      0.82      2120\n",
      "\n"
     ]
    }
   ],
   "source": [
    "print(classification_report(y_test, y_pred_logreg))"
   ]
  },
  {
   "cell_type": "code",
   "execution_count": 126,
   "id": "0fbe1591-5bb5-481f-86c2-d43d81f28611",
   "metadata": {},
   "outputs": [
    {
     "name": "stdout",
     "output_type": "stream",
     "text": [
      "K-Nearest-Neighbour Classifier accuracy:  0.8537735849056604\n",
      "Sensitivity score:  0.850909090909091\n"
     ]
    }
   ],
   "source": [
    "# KNN classifier\n",
    "knn = KNeighborsClassifier(n_neighbors=3)\n",
    "knn.fit(X_train_flat, y_train)\n",
    "y_pred_knn = knn.predict(X_test_flat)\n",
    "print(\"K-Nearest-Neighbour Classifier accuracy: \", accuracy_score(y_test, y_pred_knn))\n",
    "print(\"Sensitivity score: \", sensitivity_score(y_test, y_pred_knn))"
   ]
  },
  {
   "cell_type": "code",
   "execution_count": 47,
   "id": "9c1745e7-4ace-4451-9cc7-71281fec91d1",
   "metadata": {
    "tags": []
   },
   "outputs": [
    {
     "name": "stdout",
     "output_type": "stream",
     "text": [
      "              precision    recall  f1-score   support\n",
      "\n",
      "         0.0       0.84      0.86      0.85      1020\n",
      "         1.0       0.87      0.85      0.86      1100\n",
      "\n",
      "    accuracy                           0.85      2120\n",
      "   macro avg       0.85      0.85      0.85      2120\n",
      "weighted avg       0.85      0.85      0.85      2120\n",
      "\n"
     ]
    }
   ],
   "source": [
    "print(classification_report(y_test, y_pred_knn))"
   ]
  }
 ],
 "metadata": {
  "kernelspec": {
   "display_name": "Python 3 (ipykernel)",
   "language": "python",
   "name": "python3"
  },
  "language_info": {
   "codemirror_mode": {
    "name": "ipython",
    "version": 3
   },
   "file_extension": ".py",
   "mimetype": "text/x-python",
   "name": "python",
   "nbconvert_exporter": "python",
   "pygments_lexer": "ipython3",
   "version": "3.10.9"
  }
 },
 "nbformat": 4,
 "nbformat_minor": 5
}
