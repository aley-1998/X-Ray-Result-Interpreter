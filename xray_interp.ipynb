{
 "cells": [
  {
   "cell_type": "code",
   "execution_count": 22,
   "id": "65a9fdc3-11dd-40e1-b59d-e79f0f6f5a81",
   "metadata": {},
   "outputs": [],
   "source": [
    "# Imports\n",
    "\n",
    "# File handling\n",
    "import os\n",
    "import cv2\n",
    "import splitfolders\n",
    "\n",
    "# Visualization\n",
    "import pandas as pd\n",
    "import  matplotlib.pyplot as plt\n",
    "import seaborn as sns\n",
    "%matplotlib inline\n",
    "\n",
    "# NumPy\n",
    "import numpy as np\n",
    "\n",
    "# ML\n",
    "import tensorflow as tf\n",
    "from tensorflow import keras\n",
    "from tensorflow.keras.optimizers import Adam\n",
    "\n",
    "from keras import layers\n",
    "from keras.callbacks import CSVLogger\n",
    "from keras.utils import image_dataset_from_directory\n",
    "from keras.regularizers import l2\n",
    "\n",
    "from sklearn.utils import shuffle\n",
    "from sklearn.linear_model import LogisticRegression\n",
    "from sklearn.neighbors import KNeighborsClassifier\n",
    "\n",
    "# Metrics\n",
    "from sklearn.metrics import accuracy_score , confusion_matrix, classification_report"
   ]
  },
  {
   "cell_type": "markdown",
   "id": "c0e013cc-e2c3-43e4-a8b7-1b00f3ffb76b",
   "metadata": {
    "tags": []
   },
   "source": [
    "## Utility functions"
   ]
  },
  {
   "cell_type": "code",
   "execution_count": 2,
   "id": "34d27a77-2e91-492e-bea9-0790a0aacc0c",
   "metadata": {
    "tags": []
   },
   "outputs": [],
   "source": [
    "def load_model(file=\"model18.h5\", hist=\"18_history.csv\"):\n",
    "    \n",
    "    # load model and history\n",
    "    \n",
    "    import tensorflow as tf\n",
    "    import pandas as pd\n",
    "    import numpy as np\n",
    "    model = tf.keras.models.load_model(file)\n",
    "    history = pd.read_csv(hist)[['loss','binary_accuracy', 'val_loss', 'val_binary_accuracy']]\n",
    "    return model, history\n",
    "\n",
    "def get_data(train_path='images/train/', test_path='images/test/', valid_path='images/val/', size=(256, 256), batch_size=1):\n",
    "    \n",
    "    # preprocess train, test and valid sets\n",
    "    \n",
    "    from keras.utils import image_dataset_from_directory\n",
    "    train = image_dataset_from_directory(directory=train_path,\n",
    "                             label_mode='binary',\n",
    "                             color_mode=\"rgb\",\n",
    "                             image_size=size,\n",
    "                             batch_size=batch_size,\n",
    "                             shuffle=True,\n",
    "                             seed=77)\n",
    "    test = image_dataset_from_directory(directory=test_path,\n",
    "                             color_mode=\"rgb\",\n",
    "                             label_mode='binary',\n",
    "                             image_size=size,\n",
    "                             batch_size=batch_size,\n",
    "                             shuffle=False,\n",
    "                             seed=77)\n",
    "    valid = image_dataset_from_directory(directory=valid_path,\n",
    "                             color_mode=\"rgb\",\n",
    "                             label_mode='binary',\n",
    "                             image_size=size,\n",
    "                             batch_size=batch_size,\n",
    "                             shuffle=False,\n",
    "                             seed=77)\n",
    "    return train, test, valid\n",
    "\n",
    "def evaluate_model(model, n, valid, test):\n",
    "    \n",
    "    pd.DataFrame(model.history.history).plot(figsize=(15,5))\n",
    "    plt.grid(True)\n",
    "    plt.gca().set_ylim(0, 1)\n",
    "    plt.title(f'Model {n} Learning Curves')\n",
    "    plt.show()\n",
    "    print()\n",
    "    print()\n",
    "    print()\n",
    "    print('Test set score')\n",
    "    print()\n",
    "    model.evaluate(test)\n",
    "    print()\n",
    "    print()\n",
    "    print()\n",
    "    print('Validation set score')\n",
    "    print()\n",
    "    model.evaluate(valid)\n",
    "\n",
    "def dim_info(dimension):\n",
    "    print(\"Dimension type: \", type(dimension))\n",
    "    print(\"Dimension length: \", len(dimension))\n",
    "\n",
    "def images_to_arrays(folder_path):\n",
    "    X = []\n",
    "    y = []\n",
    "    for class_folder in os.listdir(folder_path):\n",
    "        class_path = os.path.join(folder_path, class_folder)\n",
    "        if not os.path.isdir(class_path):\n",
    "            continue\n",
    "        class_label = class_folder  # Assign the class folder name as the label\n",
    "        for filename in os.listdir(class_path):\n",
    "            img_path = os.path.join(class_path, filename)\n",
    "            img = cv2.imread(img_path)\n",
    "            if img is not None:\n",
    "                img = cv2.resize(img, (256, 256))  # Resize the image\n",
    "                img_array = np.array(img, dtype=np.float32)  # Convert array values to float\n",
    "                X.append(img_array)\n",
    "                y.append(class_label)\n",
    "    return np.array(X), np.array(y)"
   ]
  },
  {
   "cell_type": "code",
   "execution_count": 6,
   "id": "8c034f92-273a-4c51-a8da-5df3cecf7922",
   "metadata": {},
   "outputs": [],
   "source": [
    "# model\n",
    "model = load_model()[0]\n",
    "weights = model.get_weights()"
   ]
  },
  {
   "cell_type": "markdown",
   "id": "9472ac46-b270-4dc6-a402-ff0a1ffe6555",
   "metadata": {
    "tags": []
   },
   "source": [
    "## Model"
   ]
  },
  {
   "cell_type": "code",
   "execution_count": 107,
   "id": "3a5a26fe-261b-419c-9151-e5a66d5ce7da",
   "metadata": {},
   "outputs": [
    {
     "name": "stdout",
     "output_type": "stream",
     "text": [
      "Found 16930 files belonging to 2 classes.\n",
      "Found 2120 files belonging to 2 classes.\n",
      "Found 2115 files belonging to 2 classes.\n"
     ]
    }
   ],
   "source": [
    "# data\n",
    "train, test, valid = get_data()"
   ]
  },
  {
   "cell_type": "code",
   "execution_count": 6,
   "id": "02995720-da11-4c3c-9aa9-ebedc0d88243",
   "metadata": {
    "collapsed": true,
    "jupyter": {
     "outputs_hidden": true
    },
    "tags": []
   },
   "outputs": [
    {
     "name": "stdout",
     "output_type": "stream",
     "text": [
      "Epoch 1/50\n",
      "530/530 [==============================] - 146s 274ms/step - loss: 0.5872 - binary_accuracy: 0.7271 - val_loss: 0.4648 - val_binary_accuracy: 0.7948\n",
      "Epoch 2/50\n",
      "530/530 [==============================] - 145s 273ms/step - loss: 0.4833 - binary_accuracy: 0.7856 - val_loss: 0.4433 - val_binary_accuracy: 0.8024\n",
      "Epoch 3/50\n",
      "530/530 [==============================] - 145s 273ms/step - loss: 0.4585 - binary_accuracy: 0.8004 - val_loss: 0.4319 - val_binary_accuracy: 0.8076\n",
      "Epoch 4/50\n",
      "530/530 [==============================] - 145s 272ms/step - loss: 0.4545 - binary_accuracy: 0.8058 - val_loss: 0.4077 - val_binary_accuracy: 0.8213\n",
      "Epoch 5/50\n",
      "530/530 [==============================] - 144s 272ms/step - loss: 0.4440 - binary_accuracy: 0.8108 - val_loss: 0.4301 - val_binary_accuracy: 0.8165\n",
      "Epoch 6/50\n",
      "530/530 [==============================] - 145s 272ms/step - loss: 0.4358 - binary_accuracy: 0.8151 - val_loss: 0.4100 - val_binary_accuracy: 0.8265\n",
      "Epoch 7/50\n",
      "530/530 [==============================] - 144s 272ms/step - loss: 0.4283 - binary_accuracy: 0.8199 - val_loss: 0.4034 - val_binary_accuracy: 0.8312\n",
      "Epoch 8/50\n",
      "530/530 [==============================] - 144s 271ms/step - loss: 0.4228 - binary_accuracy: 0.8216 - val_loss: 0.4196 - val_binary_accuracy: 0.8189\n",
      "Epoch 9/50\n",
      "530/530 [==============================] - 145s 273ms/step - loss: 0.4215 - binary_accuracy: 0.8226 - val_loss: 0.3997 - val_binary_accuracy: 0.8402\n",
      "Epoch 10/50\n",
      "530/530 [==============================] - 145s 273ms/step - loss: 0.4161 - binary_accuracy: 0.8249 - val_loss: 0.3993 - val_binary_accuracy: 0.8397\n",
      "Epoch 11/50\n",
      "530/530 [==============================] - 145s 273ms/step - loss: 0.4192 - binary_accuracy: 0.8281 - val_loss: 0.4099 - val_binary_accuracy: 0.8350\n",
      "Epoch 12/50\n",
      "530/530 [==============================] - 145s 273ms/step - loss: 0.4158 - binary_accuracy: 0.8272 - val_loss: 0.4072 - val_binary_accuracy: 0.8340\n",
      "Epoch 13/50\n",
      "530/530 [==============================] - 144s 272ms/step - loss: 0.4327 - binary_accuracy: 0.8195 - val_loss: 0.4076 - val_binary_accuracy: 0.8303\n",
      "Epoch 14/50\n",
      "530/530 [==============================] - 145s 273ms/step - loss: 0.4160 - binary_accuracy: 0.8282 - val_loss: 0.3918 - val_binary_accuracy: 0.8383\n",
      "Epoch 15/50\n",
      "530/530 [==============================] - 146s 275ms/step - loss: 0.4010 - binary_accuracy: 0.8366 - val_loss: 0.3879 - val_binary_accuracy: 0.8392\n",
      "Epoch 16/50\n",
      "530/530 [==============================] - 145s 273ms/step - loss: 0.3965 - binary_accuracy: 0.8378 - val_loss: 0.3779 - val_binary_accuracy: 0.8496\n",
      "Epoch 17/50\n",
      "530/530 [==============================] - 144s 272ms/step - loss: 0.3980 - binary_accuracy: 0.8379 - val_loss: 0.3791 - val_binary_accuracy: 0.8449\n",
      "Epoch 18/50\n",
      "530/530 [==============================] - 144s 271ms/step - loss: 0.3953 - binary_accuracy: 0.8394 - val_loss: 0.3893 - val_binary_accuracy: 0.8383\n",
      "Epoch 19/50\n",
      "530/530 [==============================] - 144s 271ms/step - loss: 0.3916 - binary_accuracy: 0.8403 - val_loss: 0.3727 - val_binary_accuracy: 0.8487\n",
      "Epoch 20/50\n",
      "530/530 [==============================] - 144s 271ms/step - loss: 0.3925 - binary_accuracy: 0.8399 - val_loss: 0.4095 - val_binary_accuracy: 0.8331\n",
      "Epoch 21/50\n",
      "530/530 [==============================] - 144s 272ms/step - loss: 0.3908 - binary_accuracy: 0.8409 - val_loss: 0.3840 - val_binary_accuracy: 0.8496\n",
      "Epoch 22/50\n",
      "530/530 [==============================] - 143s 269ms/step - loss: 0.3852 - binary_accuracy: 0.8428 - val_loss: 0.3702 - val_binary_accuracy: 0.8539\n",
      "Epoch 23/50\n",
      "530/530 [==============================] - 143s 270ms/step - loss: 0.3893 - binary_accuracy: 0.8419 - val_loss: 0.3729 - val_binary_accuracy: 0.8501\n",
      "Epoch 24/50\n",
      "530/530 [==============================] - 144s 271ms/step - loss: 0.3877 - binary_accuracy: 0.8424 - val_loss: 0.3819 - val_binary_accuracy: 0.8449\n",
      "Epoch 25/50\n",
      "530/530 [==============================] - 143s 269ms/step - loss: 0.3873 - binary_accuracy: 0.8396 - val_loss: 0.3663 - val_binary_accuracy: 0.8501\n",
      "Epoch 26/50\n",
      "530/530 [==============================] - 143s 270ms/step - loss: 0.3889 - binary_accuracy: 0.8416 - val_loss: 0.3777 - val_binary_accuracy: 0.8511\n",
      "Epoch 27/50\n",
      "530/530 [==============================] - 143s 270ms/step - loss: 0.3778 - binary_accuracy: 0.8486 - val_loss: 0.3699 - val_binary_accuracy: 0.8511\n",
      "Epoch 28/50\n",
      "530/530 [==============================] - 145s 273ms/step - loss: 0.3872 - binary_accuracy: 0.8406 - val_loss: 0.3727 - val_binary_accuracy: 0.8548\n",
      "Epoch 29/50\n",
      "530/530 [==============================] - 145s 273ms/step - loss: 0.3827 - binary_accuracy: 0.8441 - val_loss: 0.3632 - val_binary_accuracy: 0.8596\n",
      "Epoch 30/50\n",
      "530/530 [==============================] - 146s 275ms/step - loss: 0.3784 - binary_accuracy: 0.8448 - val_loss: 0.3644 - val_binary_accuracy: 0.8563\n",
      "Epoch 31/50\n",
      "530/530 [==============================] - 147s 277ms/step - loss: 0.3750 - binary_accuracy: 0.8490 - val_loss: 0.3757 - val_binary_accuracy: 0.8506\n",
      "Epoch 32/50\n",
      "530/530 [==============================] - 148s 279ms/step - loss: 0.3802 - binary_accuracy: 0.8451 - val_loss: 0.3648 - val_binary_accuracy: 0.8586\n",
      "Epoch 33/50\n",
      "530/530 [==============================] - 146s 274ms/step - loss: 0.3774 - binary_accuracy: 0.8493 - val_loss: 0.3690 - val_binary_accuracy: 0.8582\n",
      "Epoch 34/50\n",
      "530/530 [==============================] - 146s 276ms/step - loss: 0.3752 - binary_accuracy: 0.8471 - val_loss: 0.3570 - val_binary_accuracy: 0.8544\n",
      "Epoch 35/50\n",
      "530/530 [==============================] - 150s 282ms/step - loss: 0.3714 - binary_accuracy: 0.8481 - val_loss: 0.3618 - val_binary_accuracy: 0.8544\n",
      "Epoch 36/50\n",
      "530/530 [==============================] - 144s 271ms/step - loss: 0.3723 - binary_accuracy: 0.8513 - val_loss: 0.3774 - val_binary_accuracy: 0.8530\n",
      "Epoch 37/50\n",
      "530/530 [==============================] - 142s 268ms/step - loss: 0.3729 - binary_accuracy: 0.8500 - val_loss: 0.3572 - val_binary_accuracy: 0.8567\n",
      "Epoch 38/50\n",
      "530/530 [==============================] - 144s 271ms/step - loss: 0.3710 - binary_accuracy: 0.8491 - val_loss: 0.3616 - val_binary_accuracy: 0.8563\n",
      "Epoch 39/50\n",
      "530/530 [==============================] - 145s 273ms/step - loss: 0.3710 - binary_accuracy: 0.8525 - val_loss: 0.3732 - val_binary_accuracy: 0.8534\n"
     ]
    },
    {
     "data": {
      "text/plain": [
       "<keras.callbacks.History at 0x1b88474df00>"
      ]
     },
     "execution_count": 6,
     "metadata": {},
     "output_type": "execute_result"
    }
   ],
   "source": [
    "# cnn\n",
    "shape = (256, 256, 3)\n",
    "drop = 0.6\n",
    "kernel = (3, 3)\n",
    "pool = (2, 2)\n",
    "num_classes=2\n",
    "regularizer=l2(0.01)\n",
    "learning_rate=0.0017\n",
    "\n",
    "model18 = keras.Sequential(\n",
    "    [   \n",
    "        layers.Rescaling(1./255, input_shape=shape), # input\n",
    "        layers.MaxPooling2D(pool_size=pool),\n",
    "     \n",
    "        layers.Conv2D(64, kernel_size=kernel, kernel_regularizer=regularizer, activation=\"relu\"), # layer\n",
    "        layers.MaxPooling2D(pool_size=pool),\n",
    "        \n",
    "        layers.Conv2D(32, kernel_size=kernel, kernel_regularizer=regularizer, activation=\"relu\"), # layer\n",
    "        layers.MaxPooling2D(pool_size=pool),\n",
    "\n",
    "     \n",
    "        layers.Flatten(),\n",
    "        layers.Dropout(drop),     \n",
    "        layers.Dense(1, activation=\"sigmoid\") # output\n",
    "    ])\n",
    "\n",
    "model18.compile(optimizer=Adam(learning_rate=learning_rate),\n",
    "              loss='binary_crossentropy',\n",
    "              metrics=['binary_accuracy'])\n",
    "early_stopping_cb = keras.callbacks.EarlyStopping(patience=5, restore_best_weights=True)\n",
    "model18.fit(train, validation_data=valid, verbose=1, epochs=50, shuffle=True, callbacks=[early_stopping_cb])"
   ]
  },
  {
   "cell_type": "code",
   "execution_count": 135,
   "id": "3f4ba3ce-df1f-4b30-a0e1-5b4e6fdcde61",
   "metadata": {
    "tags": []
   },
   "outputs": [
    {
     "name": "stdout",
     "output_type": "stream",
     "text": [
      "Model: \"sequential\"\n",
      "_________________________________________________________________\n",
      " Layer (type)                Output Shape              Param #   \n",
      "=================================================================\n",
      " rescaling (Rescaling)       (None, 256, 256, 3)       0         \n",
      "                                                                 \n",
      " max_pooling2d (MaxPooling2D  (None, 128, 128, 3)      0         \n",
      " )                                                               \n",
      "                                                                 \n",
      " conv2d (Conv2D)             (None, 126, 126, 64)      1792      \n",
      "                                                                 \n",
      " max_pooling2d_1 (MaxPooling  (None, 63, 63, 64)       0         \n",
      " 2D)                                                             \n",
      "                                                                 \n",
      " conv2d_1 (Conv2D)           (None, 61, 61, 32)        18464     \n",
      "                                                                 \n",
      " max_pooling2d_2 (MaxPooling  (None, 30, 30, 32)       0         \n",
      " 2D)                                                             \n",
      "                                                                 \n",
      " flatten (Flatten)           (None, 28800)             0         \n",
      "                                                                 \n",
      " dropout (Dropout)           (None, 28800)             0         \n",
      "                                                                 \n",
      " dense (Dense)               (None, 1)                 28801     \n",
      "                                                                 \n",
      "=================================================================\n",
      "Total params: 49,057\n",
      "Trainable params: 49,057\n",
      "Non-trainable params: 0\n",
      "_________________________________________________________________\n"
     ]
    }
   ],
   "source": [
    "model18.summary()"
   ]
  },
  {
   "cell_type": "code",
   "execution_count": 76,
   "id": "de84fe13-91df-4ea7-9b95-a5cbd80ee46e",
   "metadata": {
    "tags": []
   },
   "outputs": [
    {
     "data": {
      "image/png": "[encoded data removed]",
      "text/plain": [
       "<Figure size 1500x500 with 1 Axes>"
      ]
     },
     "metadata": {},
     "output_type": "display_data"
    },
    {
     "name": "stdout",
     "output_type": "stream",
     "text": [
      "\n",
      "\n",
      "\n",
      "Test set score\n",
      "\n",
      "67/67 [==============================] - 5s 75ms/step - loss: 0.3481 - binary_accuracy: 0.8656\n",
      "\n",
      "\n",
      "\n",
      "Validation set score\n",
      "\n",
      "67/67 [==============================] - 5s 74ms/step - loss: 0.3570 - binary_accuracy: 0.8544\n"
     ]
    }
   ],
   "source": [
    "evaluate_model(model18)"
   ]
  },
  {
   "cell_type": "code",
   "execution_count": 31,
   "id": "e2359c37-1ccf-43ba-9abb-973998b80197",
   "metadata": {},
   "outputs": [
    {
     "name": "stdout",
     "output_type": "stream",
     "text": [
      "67/67 [==============================] - 4s 62ms/step\n"
     ]
    }
   ],
   "source": [
    "pred = model.predict(X_test).round()"
   ]
  },
  {
   "cell_type": "code",
   "execution_count": 37,
   "id": "b897ae41-e282-4fcd-bcff-1b8f080edc88",
   "metadata": {},
   "outputs": [
    {
     "data": {
      "text/plain": [
       "<Axes: >"
      ]
     },
     "execution_count": 37,
     "metadata": {},
     "output_type": "execute_result"
    },
    {
     "data": {
      "image/png": "[encoded data removed]",
      "text/plain": [
       "<Figure size 640x480 with 2 Axes>"
      ]
     },
     "metadata": {},
     "output_type": "display_data"
    }
   ],
   "source": [
    "sns.heatmap(confusion_matrix(y_test, pred), yticklabels=['healthy', 'sick'], xticklabels=['healthy', 'sick'])"
   ]
  },
  {
   "cell_type": "code",
   "execution_count": 34,
   "id": "f6f5aa7a-7f69-43cb-b6ee-01d33cc6b965",
   "metadata": {},
   "outputs": [
    {
     "name": "stdout",
     "output_type": "stream",
     "text": [
      "              precision    recall  f1-score   support\n",
      "\n",
      "         0.0       0.86      0.86      0.86      1020\n",
      "         1.0       0.87      0.87      0.87      1100\n",
      "\n",
      "    accuracy                           0.87      2120\n",
      "   macro avg       0.86      0.87      0.86      2120\n",
      "weighted avg       0.87      0.87      0.87      2120\n",
      "\n"
     ]
    }
   ],
   "source": [
    "print(classification_report(y_test, pred))"
   ]
  },
  {
   "cell_type": "markdown",
   "id": "d21cb4f7-32af-4984-ac84-6ca49b12f331",
   "metadata": {
    "tags": []
   },
   "source": [
    "## Other classification Models"
   ]
  },
  {
   "cell_type": "code",
   "execution_count": 39,
   "id": "bd4a0aff-bff2-4fd6-9003-45b96cd6bdb2",
   "metadata": {},
   "outputs": [],
   "source": [
    "# comparison models data preprocessing\n",
    "X_train, y_train = images_to_arrays(\"images\\\\train\")\n",
    "y_train[y_train == 'healthy'] = 0\n",
    "y_train[y_train == 'sick'] = 1\n",
    "y_train = y_train.astype('float32')\n",
    "\n",
    "X_test, y_test = images_to_arrays(\"images\\\\test\")\n",
    "y_test[y_test == 'healthy'] = 0\n",
    "y_test[y_test == 'sick'] = 1\n",
    "y_test = y_test.astype('float32')\n",
    "\n",
    "# data input for logreg and knn\n",
    "X_train_flat = X_train.reshape(X_train.shape[0], -1)\n",
    "X_test_flat = X_test.reshape(X_test.shape[0], -1)"
   ]
  },
  {
   "cell_type": "code",
   "execution_count": 44,
   "id": "d59de3fd-d972-4ffa-9606-1c3d37a3bb28",
   "metadata": {},
   "outputs": [
    {
     "name": "stdout",
     "output_type": "stream",
     "text": [
      "Logistic Regression Classifier accuracy:  0.8160377358490566\n"
     ]
    }
   ],
   "source": [
    "# logistic regression classifier\n",
    "logreg = LogisticRegression(max_iter=50)\n",
    "logreg.fit(X_train_flat, y_train)\n",
    "y_pred_logreg = logreg.predict(X_test_flat)\n",
    "print(\"Logistic Regression Classifier accuracy: \", logreg.score(X_test_flat, y_test))"
   ]
  },
  {
   "cell_type": "code",
   "execution_count": 41,
   "id": "a4fa2123-a771-46a6-b03a-43aa1cf7197d",
   "metadata": {},
   "outputs": [
    {
     "data": {
      "text/plain": [
       "<Axes: >"
      ]
     },
     "execution_count": 41,
     "metadata": {},
     "output_type": "execute_result"
    },
    {
     "data": {
      "image/png": "[encoded data removed]",
      "text/plain": [
       "<Figure size 640x480 with 2 Axes>"
      ]
     },
     "metadata": {},
     "output_type": "display_data"
    }
   ],
   "source": [
    "sns.heatmap(confusion_matrix(y_test, y_pred_logreg), yticklabels=['healthy', 'sick'], xticklabels=['healthy', 'sick'])"
   ]
  },
  {
   "cell_type": "code",
   "execution_count": 43,
   "id": "b5198363-d8ea-471c-aed3-96b1165fd905",
   "metadata": {},
   "outputs": [
    {
     "name": "stdout",
     "output_type": "stream",
     "text": [
      "              precision    recall  f1-score   support\n",
      "\n",
      "         0.0       0.81      0.81      0.81      1020\n",
      "         1.0       0.82      0.82      0.82      1100\n",
      "\n",
      "    accuracy                           0.82      2120\n",
      "   macro avg       0.82      0.82      0.82      2120\n",
      "weighted avg       0.82      0.82      0.82      2120\n",
      "\n"
     ]
    }
   ],
   "source": [
    "print(classification_report(y_test, y_pred_logreg))"
   ]
  },
  {
   "cell_type": "code",
   "execution_count": 45,
   "id": "0fbe1591-5bb5-481f-86c2-d43d81f28611",
   "metadata": {},
   "outputs": [
    {
     "name": "stdout",
     "output_type": "stream",
     "text": [
      "K-Nearest-Neighbour Classifier accuracy:  0.8537735849056604\n"
     ]
    }
   ],
   "source": [
    "# KNN classifier\n",
    "knn = KNeighborsClassifier(n_neighbors=3)\n",
    "knn.fit(X_train_flat, y_train)\n",
    "y_pred_knn = knn.predict(X_test_flat)\n",
    "print(\"K-Nearest-Neighbour Classifier accuracy: \", accuracy_score(y_test, y_pred_knn))"
   ]
  },
  {
   "cell_type": "code",
   "execution_count": 46,
   "id": "afe06bfb-d950-4981-9e55-9fec8918ba1b",
   "metadata": {},
   "outputs": [
    {
     "data": {
      "text/plain": [
       "<Axes: >"
      ]
     },
     "execution_count": 46,
     "metadata": {},
     "output_type": "execute_result"
    },
    {
     "data": {
      "image/png": "[encoded data removed]",
      "text/plain": [
       "<Figure size 640x480 with 2 Axes>"
      ]
     },
     "metadata": {},
     "output_type": "display_data"
    }
   ],
   "source": [
    "sns.heatmap(confusion_matrix(y_test, y_pred_knn), yticklabels=['healthy', 'sick'], xticklabels=['healthy', 'sick'])"
   ]
  },
  {
   "cell_type": "code",
   "execution_count": 47,
   "id": "9c1745e7-4ace-4451-9cc7-71281fec91d1",
   "metadata": {},
   "outputs": [
    {
     "name": "stdout",
     "output_type": "stream",
     "text": [
      "              precision    recall  f1-score   support\n",
      "\n",
      "         0.0       0.84      0.86      0.85      1020\n",
      "         1.0       0.87      0.85      0.86      1100\n",
      "\n",
      "    accuracy                           0.85      2120\n",
      "   macro avg       0.85      0.85      0.85      2120\n",
      "weighted avg       0.85      0.85      0.85      2120\n",
      "\n"
     ]
    }
   ],
   "source": [
    "print(classification_report(y_test, y_pred_knn))"
   ]
  }
 ],
 "metadata": {
  "kernelspec": {
   "display_name": "Python 3 (ipykernel)",
   "language": "python",
   "name": "python3"
  },
  "language_info": {
   "codemirror_mode": {
    "name": "ipython",
    "version": 3
   },
   "file_extension": ".py",
   "mimetype": "text/x-python",
   "name": "python",
   "nbconvert_exporter": "python",
   "pygments_lexer": "ipython3",
   "version": "3.10.9"
  }
 },
 "nbformat": 4,
 "nbformat_minor": 5
}
